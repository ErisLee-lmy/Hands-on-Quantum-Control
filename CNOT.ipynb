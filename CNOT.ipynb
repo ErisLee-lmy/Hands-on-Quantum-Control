{
 "cells": [
  {
   "cell_type": "code",
   "execution_count": null,
   "id": "72bd59fd",
   "metadata": {},
   "outputs": [],
   "source": [
    "%matplotlib inline\n",
    "import matplotlib.pyplot as plt\n",
    "import time\n",
    "import numpy as np\n",
    "from qutip import *\n",
    "from qutip.control import *\n",
    "\n",
    "\n",
    "from qutip.control.grape import plot_grape_control_fields, _overlap, grape_unitary_adaptive, cy_grape_unitary\n",
    "from scipy.interpolate import interp1d\n",
    "from qutip.ui.progressbar import TextProgressBar"
   ]
  },
  {
   "cell_type": "code",
   "execution_count": null,
   "id": "72b85652",
   "metadata": {},
   "outputs": [],
   "source": [
    "T = 2 * np.pi \n",
    "times = np.linspace(0, T, 500)\n",
    "\n",
    "U = cnot()\n",
    "R = 500\n",
    "H_ops = [tensor(sigmax(), identity(2)),\n",
    "         tensor(sigmay(), identity(2)),\n",
    "         tensor(sigmaz(), identity(2)),\n",
    "         tensor(identity(2), sigmax()),\n",
    "         tensor(identity(2), sigmay()),\n",
    "         tensor(identity(2), sigmaz()),\n",
    "         tensor(sigmax(), sigmax()) +\n",
    "         tensor(sigmay(), sigmay()) +\n",
    "         tensor(sigmaz(), sigmaz())]\n",
    "\n",
    "H_labels = [r'$u_{1x}$', r'$u_{1y}$', r'$u_{1z}$',\n",
    "            r'$u_{2x}$', r'$u_{1y}$', r'$u_{2z}$',\n",
    "            r'$u_{xx}$',\n",
    "            r'$u_{yy}$',\n",
    "            r'$u_{zz}$',\n",
    "        ]\n",
    "\n",
    "H0 = 0 * np.pi * (tensor(sigmax(), identity(2)) + tensor(identity(2), sigmax()))\n",
    "\n",
    "c_ops = []\n",
    "\n",
    "# This is the analytical result in the absense of single-qubit tunnelling\n",
    "#g = pi/(4 * T)\n",
    "#H = g * (tensor(sigmax(), sigmax()) + tensor(sigmay(), sigmay()))"
   ]
  },
  {
   "cell_type": "code",
   "execution_count": null,
   "id": "86bfe9f7",
   "metadata": {},
   "outputs": [],
   "source": [
    "u0 = np.array([np.random.rand(len(times)) * 2 * np.pi * 0.05 for _ in range(len(H_ops))])\n",
    "\n",
    "u0 = [np.convolve(np.ones(10)/10, u0[idx,:], mode='same') for idx in range(len(H_ops))]\n",
    "\n",
    "u_limits = None #[0, 1 * 2 * pi]\n",
    "alpha = None"
   ]
  },
  {
   "cell_type": "code",
   "execution_count": null,
   "id": "015c65c3",
   "metadata": {},
   "outputs": [
    {
     "ename": "TypeError",
     "evalue": "(1+0j) has unsupported type <class 'complex'>.",
     "output_type": "error",
     "traceback": [
      "\u001b[1;31m---------------------------------------------------------------------------\u001b[0m",
      "\u001b[1;31mTypeError\u001b[0m                                 Traceback (most recent call last)",
      "Cell \u001b[1;32mIn[3], line 33\u001b[0m\n\u001b[0;32m     30\u001b[0m psi0 \u001b[38;5;241m=\u001b[39m basis(\u001b[38;5;241m2\u001b[39m, \u001b[38;5;241m0\u001b[39m)\n\u001b[0;32m     32\u001b[0m \u001b[38;5;66;03m# 计算时间演化\u001b[39;00m\n\u001b[1;32m---> 33\u001b[0m result \u001b[38;5;241m=\u001b[39m \u001b[43mmesolve\u001b[49m\u001b[43m(\u001b[49m\u001b[43mH\u001b[49m\u001b[43m,\u001b[49m\u001b[43m \u001b[49m\u001b[43mpsi0\u001b[49m\u001b[43m,\u001b[49m\u001b[43m \u001b[49m\u001b[43mtlist\u001b[49m\u001b[43m,\u001b[49m\u001b[43m \u001b[49m\u001b[43m[\u001b[49m\u001b[43m]\u001b[49m\u001b[43m,\u001b[49m\u001b[43m \u001b[49m\u001b[43m[\u001b[49m\u001b[43mbasis\u001b[49m\u001b[43m(\u001b[49m\u001b[38;5;241;43m2\u001b[39;49m\u001b[43m,\u001b[49m\u001b[38;5;241;43m1\u001b[39;49m\u001b[43m)\u001b[49m\u001b[38;5;241;43m.\u001b[39;49m\u001b[43mdag\u001b[49m\u001b[43m(\u001b[49m\u001b[43m)\u001b[49m\u001b[38;5;241;43m*\u001b[39;49m\u001b[43mbasis\u001b[49m\u001b[43m(\u001b[49m\u001b[38;5;241;43m2\u001b[39;49m\u001b[43m,\u001b[49m\u001b[38;5;241;43m1\u001b[39;49m\u001b[43m)\u001b[49m\u001b[43m]\u001b[49m\u001b[43m)\u001b[49m\n\u001b[0;32m     35\u001b[0m \u001b[38;5;66;03m# 绘制结果\u001b[39;00m\n\u001b[0;32m     36\u001b[0m plt\u001b[38;5;241m.\u001b[39mfigure(figsize\u001b[38;5;241m=\u001b[39m(\u001b[38;5;241m10\u001b[39m, \u001b[38;5;241m6\u001b[39m))\n",
      "File \u001b[1;32mc:\\Users\\ASUS\\anaconda3\\envs\\qec\\lib\\site-packages\\qutip\\solver\\mesolve.py:142\u001b[0m, in \u001b[0;36mmesolve\u001b[1;34m(H, rho0, tlist, c_ops, e_ops, args, options, **kwargs)\u001b[0m\n\u001b[0;32m    139\u001b[0m use_mesolve \u001b[38;5;241m=\u001b[39m \u001b[38;5;28mlen\u001b[39m(c_ops) \u001b[38;5;241m>\u001b[39m \u001b[38;5;241m0\u001b[39m \u001b[38;5;129;01mor\u001b[39;00m (\u001b[38;5;129;01mnot\u001b[39;00m rho0\u001b[38;5;241m.\u001b[39misket) \u001b[38;5;129;01mor\u001b[39;00m H\u001b[38;5;241m.\u001b[39missuper\n\u001b[0;32m    141\u001b[0m \u001b[38;5;28;01mif\u001b[39;00m \u001b[38;5;129;01mnot\u001b[39;00m use_mesolve:\n\u001b[1;32m--> 142\u001b[0m     \u001b[38;5;28;01mreturn\u001b[39;00m \u001b[43msesolve\u001b[49m\u001b[43m(\u001b[49m\u001b[43mH\u001b[49m\u001b[43m,\u001b[49m\u001b[43m \u001b[49m\u001b[43mrho0\u001b[49m\u001b[43m,\u001b[49m\u001b[43m \u001b[49m\u001b[43mtlist\u001b[49m\u001b[43m,\u001b[49m\u001b[43m \u001b[49m\u001b[43me_ops\u001b[49m\u001b[38;5;241;43m=\u001b[39;49m\u001b[43me_ops\u001b[49m\u001b[43m,\u001b[49m\u001b[43m \u001b[49m\u001b[43margs\u001b[49m\u001b[38;5;241;43m=\u001b[39;49m\u001b[43margs\u001b[49m\u001b[43m,\u001b[49m\n\u001b[0;32m    143\u001b[0m \u001b[43m                   \u001b[49m\u001b[43moptions\u001b[49m\u001b[38;5;241;43m=\u001b[39;49m\u001b[43moptions\u001b[49m\u001b[43m)\u001b[49m\n\u001b[0;32m    145\u001b[0m solver \u001b[38;5;241m=\u001b[39m MESolver(H, c_ops, options\u001b[38;5;241m=\u001b[39moptions)\n\u001b[0;32m    147\u001b[0m \u001b[38;5;28;01mreturn\u001b[39;00m solver\u001b[38;5;241m.\u001b[39mrun(rho0, tlist, e_ops\u001b[38;5;241m=\u001b[39me_ops)\n",
      "File \u001b[1;32mc:\\Users\\ASUS\\anaconda3\\envs\\qec\\lib\\site-packages\\qutip\\solver\\sesolve.py:107\u001b[0m, in \u001b[0;36msesolve\u001b[1;34m(H, psi0, tlist, e_ops, args, options, **kwargs)\u001b[0m\n\u001b[0;32m    105\u001b[0m H \u001b[38;5;241m=\u001b[39m QobjEvo(H, args\u001b[38;5;241m=\u001b[39margs, tlist\u001b[38;5;241m=\u001b[39mtlist)\n\u001b[0;32m    106\u001b[0m solver \u001b[38;5;241m=\u001b[39m SESolver(H, options\u001b[38;5;241m=\u001b[39moptions)\n\u001b[1;32m--> 107\u001b[0m \u001b[38;5;28;01mreturn\u001b[39;00m \u001b[43msolver\u001b[49m\u001b[38;5;241;43m.\u001b[39;49m\u001b[43mrun\u001b[49m\u001b[43m(\u001b[49m\u001b[43mpsi0\u001b[49m\u001b[43m,\u001b[49m\u001b[43m \u001b[49m\u001b[43mtlist\u001b[49m\u001b[43m,\u001b[49m\u001b[43m \u001b[49m\u001b[43me_ops\u001b[49m\u001b[38;5;241;43m=\u001b[39;49m\u001b[43me_ops\u001b[49m\u001b[43m)\u001b[49m\n",
      "File \u001b[1;32mc:\\Users\\ASUS\\anaconda3\\envs\\qec\\lib\\site-packages\\qutip\\solver\\solver_base.py:173\u001b[0m, in \u001b[0;36mSolver.run\u001b[1;34m(self, state0, tlist, args, e_ops)\u001b[0m\n\u001b[0;32m    171\u001b[0m \u001b[38;5;28mself\u001b[39m\u001b[38;5;241m.\u001b[39m_argument(args)\n\u001b[0;32m    172\u001b[0m stats \u001b[38;5;241m=\u001b[39m \u001b[38;5;28mself\u001b[39m\u001b[38;5;241m.\u001b[39m_initialize_stats()\n\u001b[1;32m--> 173\u001b[0m results \u001b[38;5;241m=\u001b[39m \u001b[38;5;28;43mself\u001b[39;49m\u001b[38;5;241;43m.\u001b[39;49m\u001b[43m_resultclass\u001b[49m\u001b[43m(\u001b[49m\n\u001b[0;32m    174\u001b[0m \u001b[43m    \u001b[49m\u001b[43me_ops\u001b[49m\u001b[43m,\u001b[49m\u001b[43m \u001b[49m\u001b[38;5;28;43mself\u001b[39;49m\u001b[38;5;241;43m.\u001b[39;49m\u001b[43moptions\u001b[49m\u001b[43m,\u001b[49m\n\u001b[0;32m    175\u001b[0m \u001b[43m    \u001b[49m\u001b[43msolver\u001b[49m\u001b[38;5;241;43m=\u001b[39;49m\u001b[38;5;28;43mself\u001b[39;49m\u001b[38;5;241;43m.\u001b[39;49m\u001b[43mname\u001b[49m\u001b[43m,\u001b[49m\u001b[43m \u001b[49m\u001b[43mstats\u001b[49m\u001b[38;5;241;43m=\u001b[39;49m\u001b[43mstats\u001b[49m\u001b[43m,\u001b[49m\n\u001b[0;32m    176\u001b[0m \u001b[43m\u001b[49m\u001b[43m)\u001b[49m\n\u001b[0;32m    177\u001b[0m results\u001b[38;5;241m.\u001b[39madd(tlist[\u001b[38;5;241m0\u001b[39m], \u001b[38;5;28mself\u001b[39m\u001b[38;5;241m.\u001b[39m_restore_state(_data0, copy\u001b[38;5;241m=\u001b[39m\u001b[38;5;28;01mFalse\u001b[39;00m))\n\u001b[0;32m    178\u001b[0m stats[\u001b[38;5;124m'\u001b[39m\u001b[38;5;124mpreparation time\u001b[39m\u001b[38;5;124m'\u001b[39m] \u001b[38;5;241m+\u001b[39m\u001b[38;5;241m=\u001b[39m time() \u001b[38;5;241m-\u001b[39m _time_start\n",
      "File \u001b[1;32mc:\\Users\\ASUS\\anaconda3\\envs\\qec\\lib\\site-packages\\qutip\\solver\\result.py:235\u001b[0m, in \u001b[0;36mResult.__init__\u001b[1;34m(self, e_ops, options, solver, stats, **kw)\u001b[0m\n\u001b[0;32m    233\u001b[0m \u001b[38;5;28mself\u001b[39m\u001b[38;5;241m.\u001b[39me_ops \u001b[38;5;241m=\u001b[39m {}\n\u001b[0;32m    234\u001b[0m \u001b[38;5;28;01mfor\u001b[39;00m k, op \u001b[38;5;129;01min\u001b[39;00m raw_ops\u001b[38;5;241m.\u001b[39mitems():\n\u001b[1;32m--> 235\u001b[0m     f \u001b[38;5;241m=\u001b[39m \u001b[38;5;28;43mself\u001b[39;49m\u001b[38;5;241;43m.\u001b[39;49m\u001b[43m_e_op_func\u001b[49m\u001b[43m(\u001b[49m\u001b[43mop\u001b[49m\u001b[43m)\u001b[49m\n\u001b[0;32m    236\u001b[0m     \u001b[38;5;28mself\u001b[39m\u001b[38;5;241m.\u001b[39me_ops[k] \u001b[38;5;241m=\u001b[39m ExpectOp(op, f, \u001b[38;5;28mself\u001b[39m\u001b[38;5;241m.\u001b[39me_data[k]\u001b[38;5;241m.\u001b[39mappend)\n\u001b[0;32m    237\u001b[0m     \u001b[38;5;28mself\u001b[39m\u001b[38;5;241m.\u001b[39madd_processor(\u001b[38;5;28mself\u001b[39m\u001b[38;5;241m.\u001b[39me_ops[k]\u001b[38;5;241m.\u001b[39m_store)\n",
      "File \u001b[1;32mc:\\Users\\ASUS\\anaconda3\\envs\\qec\\lib\\site-packages\\qutip\\solver\\result.py:259\u001b[0m, in \u001b[0;36mResult._e_op_func\u001b[1;34m(self, e_op)\u001b[0m\n\u001b[0;32m    257\u001b[0m \u001b[38;5;28;01melif\u001b[39;00m \u001b[38;5;28mcallable\u001b[39m(e_op):\n\u001b[0;32m    258\u001b[0m     \u001b[38;5;28;01mreturn\u001b[39;00m e_op\n\u001b[1;32m--> 259\u001b[0m \u001b[38;5;28;01mraise\u001b[39;00m \u001b[38;5;167;01mTypeError\u001b[39;00m(\u001b[38;5;124mf\u001b[39m\u001b[38;5;124m\"\u001b[39m\u001b[38;5;132;01m{\u001b[39;00me_op\u001b[38;5;132;01m!r}\u001b[39;00m\u001b[38;5;124m has unsupported type \u001b[39m\u001b[38;5;132;01m{\u001b[39;00m\u001b[38;5;28mtype\u001b[39m(e_op)\u001b[38;5;132;01m!r}\u001b[39;00m\u001b[38;5;124m.\u001b[39m\u001b[38;5;124m\"\u001b[39m)\n",
      "\u001b[1;31mTypeError\u001b[0m: (1+0j) has unsupported type <class 'complex'>."
     ]
    },
    {
     "ename": "",
     "evalue": "",
     "output_type": "error",
     "traceback": [
      "\u001b[1;31m在当前单元格或上一个单元格中执行代码时 Kernel 崩溃。\n",
      "\u001b[1;31m请查看单元格中的代码，以确定故障的可能原因。\n",
      "\u001b[1;31m单击<a href='https://aka.ms/vscodeJupyterKernelCrash'>此处</a>了解详细信息。\n",
      "\u001b[1;31m有关更多详细信息，请查看 Jupyter <a href='command:jupyter.viewOutput'>log</a>。"
     ]
    }
   ],
   "source": [
    "import numpy as np\n",
    "from qutip import *\n",
    "import matplotlib.pyplot as plt\n",
    "\n",
    "# 定义系统参数\n",
    "omega0 = 1.0 * 2 * np.pi   # 原子能级间距 (基态到里德堡态)\n",
    "omega = 1.0 * 2 * np.pi    # 脉冲频率 (设为共振)\n",
    "Omega_max = 2 * np.pi      # 最大拉比频率 (π脉冲)\n",
    "t_center = 5.0             # 高斯脉冲中心时间\n",
    "t_width = 1.0              # 高斯脉冲宽度\n",
    "tlist = np.linspace(0, 10, 500)  # 时间演化序列\n",
    "\n",
    "# 定义能级系统\n",
    "# |0>: 基态，|1>: 里德堡态\n",
    "sz = sigmaz()\n",
    "sx = sigmax()\n",
    "\n",
    "# 定义哈密顿量\n",
    "H0 = 0.5 * omega0 * sz       # 自由哈密顿量\n",
    "H1 = 0.5 * sx                # 相互作用哈密顿量\n",
    "\n",
    "# 定义高斯脉冲函数\n",
    "def Omega_t(t, args):\n",
    "    return Omega_max * np.exp(-(t - t_center)**2/ (2 * t_width**2))\n",
    "\n",
    "# 组合时间相关哈密顿量\n",
    "H = [H0, [H1, Omega_t]]\n",
    "\n",
    "# 初始态为基态 |0>\n",
    "psi0 = basis(2, 0)\n",
    "\n",
    "# 计算时间演化\n",
    "result = mesolve(H, psi0, tlist, [], [basis(2,1).dag()*basis(2,1)])\n",
    "\n",
    "# 绘制结果\n",
    "plt.figure(figsize=(10, 6))\n",
    "plt.plot(tlist, result.expect[0], label='Rydberg Population')\n",
    "plt.plot(tlist, [Omega_t(t, None)/(2*np.pi) for t in tlist], 'r--', label='Rabi Frequency (GHz)')\n",
    "plt.xlabel('Time (ns)', fontsize=12)\n",
    "plt.ylabel('Population/Rabi Frequency', fontsize=12)\n",
    "plt.title('Rydberg Atom Excitation under Gaussian Pulse', fontsize=14)\n",
    "plt.legend()\n",
    "plt.grid(True)\n",
    "plt.show()"
   ]
  }
 ],
 "metadata": {
  "kernelspec": {
   "display_name": "qec",
   "language": "python",
   "name": "python3"
  },
  "language_info": {
   "codemirror_mode": {
    "name": "ipython",
    "version": 3
   },
   "file_extension": ".py",
   "mimetype": "text/x-python",
   "name": "python",
   "nbconvert_exporter": "python",
   "pygments_lexer": "ipython3",
   "version": "3.9.21"
  }
 },
 "nbformat": 4,
 "nbformat_minor": 5
}
