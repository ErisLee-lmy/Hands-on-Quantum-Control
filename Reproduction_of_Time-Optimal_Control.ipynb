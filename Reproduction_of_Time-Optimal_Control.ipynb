{
 "cells": [
  {
   "cell_type": "code",
   "execution_count": null,
   "metadata": {},
   "outputs": [],
   "source": [
    "from qutip import * # qutip == 5.0.4\n",
    "import numpy as np\n",
    "import matplotlib.pyplot as plt\n",
    "from scipy.optimize import minimize\n",
    "import warnings\n",
    "warnings.filterwarnings(\"ignore\")"
   ]
  },
  {
   "cell_type": "markdown",
   "metadata": {},
   "source": [
    "# Hamiltonian\n",
    "$$\\begin{align}​\n",
    "H(t) &= \\sum_{i = j}^{n} \\frac{\\Omega_j(t)}{2} |1\\rangle_j {}_j\\langle r| + \\text{h.c.} \\\\​\n",
    "&+ \\sum_{j <> k} B_{jk} |rr\\rangle_{jk} {}_{jk}\\langle rr|.​\n",
    "\\end{align}$$"
   ]
  },
  {
   "cell_type": "markdown",
   "metadata": {},
   "source": [
    "# the Two Qubit System with Infinte Blockade Strength"
   ]
  },
  {
   "cell_type": "code",
   "execution_count": 61,
   "metadata": {},
   "outputs": [],
   "source": [
    "N = 99 # number of time steps\n",
    "dim = 4 \n",
    "basis_state = [basis(dim,i) for i in range(dim)] # basis states\n",
    "# in the basis of |10>, |0r>, |11>, |W>=(|1r>+|r1>)/sqrt2\n",
    "\n",
    "method = 'BFGS'\n",
    "sqrt2 = np.sqrt(2)\n",
    "\n",
    "Omega_max = 1 # fix maximum Omega\n",
    "T_max = 100000.0 # maximum time\n",
    "T_list = np.linspace(0, T_max, 100)\n",
    "\n",
    "# Initialize the state\n",
    "psi_in = Qobj([1,0,1,0]/sqrt2) # |psi(0)> = |1>|0> + |1>|1> "
   ]
  },
  {
   "cell_type": "code",
   "execution_count": 62,
   "metadata": {},
   "outputs": [],
   "source": [
    "class Optimalization_2_qubits:\n",
    "    # input T get optimal 1-F and optimized phi\n",
    "    def __init__(self, T):\n",
    "        self.T = T\n",
    "        self.dt = T/N\n",
    "        self.phi = np.random.uniform(0, 2*np.pi, N) # Random initial phase angles\n",
    "        \n",
    "    def get_H(self):\n",
    "        phi = self.phi\n",
    "        \n",
    "        Omega = Omega_max * np.exp(1j*phi)# Global Pulse so Omega_1 = Omega_2 = Omega\n",
    "\n",
    "        H = np.zeros((4,4)) # Hamiltonian matrix\n",
    "        # in the basis of |01>, |0r>,|11>,|W>=(|1r>+|r1>)/sqr2\n",
    "        H_list = [] # List to store Hamiltonian matrices\n",
    "        \n",
    "        for i in range(N):\n",
    "            H[0,1] = Omega[i]/2 \n",
    "            H[1,0] = Omega[i].conj()/2\n",
    "            H[2,3] = Omega[i]/sqrt2\n",
    "            H[3,2] = Omega[i].conj()/sqrt2\n",
    "            \n",
    "            H_operator = Qobj(H) # Convert to Qobj\n",
    "            H_list.append(H_operator) # Append to the list\n",
    "        return H_list # Return the list of Hamiltonian matrices\n",
    "\n",
    "    def get_U(self):\n",
    "        dt = self.dt\n",
    "        phi = self.phi\n",
    "        # Define the unitary operator\n",
    "        H_list = self.get_H() # Get the Hamiltonian list\n",
    "        U_total = qeye(H_list[0].dims[0]) # Initialize the total unitary operator\n",
    "        for i in range(len(H_list)):\n",
    "            H_i = H_list[i]               # Calculate the Hamiltonian for the current time step\n",
    "            U_i = (-1j * H_i * dt).expm() \n",
    "            U_total = U_i * U_total\n",
    "        return U_total # Return the total unitary operator\n",
    "\n",
    "    def get_fidelity(self):\n",
    "        \n",
    "        # use the average fidelity fomula\n",
    "        U = self.get_U()\n",
    "        \n",
    "        # a01 = basis_state[0].dag() * U * psi_in \n",
    "        # a11 = -basis_state[2].dag() * U * psi_in \n",
    "        a01 = basis_state[0].dag() * U * basis_state[0]\n",
    "        a11 = -basis_state[2].dag() * U * basis_state[2]\n",
    "\n",
    "        F = (0.05) * ( np.abs(1 + 2*a01 + a11)**2 + 1 + 2*np.abs(a01)**2 + np.abs(a11)**2 )\n",
    "        return F # Return the fidelity\n",
    "\n",
    "    def objective_function(self, phi):\n",
    "        self.phi = phi # Update phi\n",
    "        return 1-self.get_fidelity()\n",
    "    \n",
    "    def optimize(self):\n",
    "        # Optimize the phase angles\n",
    "        result = minimize(self.objective_function, self.phi, method='BFGS', options={'disp': True})\n",
    "        return result.fun, result.x\n",
    "    "
   ]
  },
  {
   "cell_type": "code",
   "execution_count": 63,
   "metadata": {},
   "outputs": [
    {
     "name": "stderr",
     "output_type": "stream",
     "text": [
      "C:\\Users\\ASUS\\AppData\\Local\\Temp\\ipykernel_1848\\916868080.py:18: ComplexWarning: Casting complex values to real discards the imaginary part\n",
      "  H[0,1] = Omega[i]/2\n",
      "C:\\Users\\ASUS\\AppData\\Local\\Temp\\ipykernel_1848\\916868080.py:19: ComplexWarning: Casting complex values to real discards the imaginary part\n",
      "  H[1,0] = Omega[i].conj()/2\n",
      "C:\\Users\\ASUS\\AppData\\Local\\Temp\\ipykernel_1848\\916868080.py:20: ComplexWarning: Casting complex values to real discards the imaginary part\n",
      "  H[2,3] = Omega[i]/sqrt2\n",
      "C:\\Users\\ASUS\\AppData\\Local\\Temp\\ipykernel_1848\\916868080.py:21: ComplexWarning: Casting complex values to real discards the imaginary part\n",
      "  H[3,2] = Omega[i].conj()/sqrt2\n"
     ]
    },
    {
     "data": {
      "text/latex": [
       "Quantum object: dims=[[4], [4]], shape=(4, 4), type='oper', dtype=Dense, isherm=True$$\\left(\\begin{array}{cc}1.000 & 0 & 0 & 0\\\\0 & 1.000 & 0 & 0\\\\0 & 0 & 1 & 0\\\\0 & 0 & 0 & 1\\end{array}\\right)$$"
      ],
      "text/plain": [
       "Quantum object: dims=[[4], [4]], shape=(4, 4), type='oper', dtype=Dense, isherm=True\n",
       "Qobj data =\n",
       "[[1. 0. 0. 0.]\n",
       " [0. 1. 0. 0.]\n",
       " [0. 0. 1. 0.]\n",
       " [0. 0. 0. 1.]]"
      ]
     },
     "execution_count": 63,
     "metadata": {},
     "output_type": "execute_result"
    }
   ],
   "source": [
    "T_sample = 10.0\n",
    "sample = Optimalization_2_qubits(T_sample)\n",
    "U = sample.get_U()\n",
    "U.dag() * U # Check if U is unitary"
   ]
  },
  {
   "cell_type": "code",
   "execution_count": 64,
   "metadata": {},
   "outputs": [
    {
     "name": "stderr",
     "output_type": "stream",
     "text": [
      "C:\\Users\\ASUS\\AppData\\Local\\Temp\\ipykernel_1848\\916868080.py:18: ComplexWarning: Casting complex values to real discards the imaginary part\n",
      "  H[0,1] = Omega[i]/2\n",
      "C:\\Users\\ASUS\\AppData\\Local\\Temp\\ipykernel_1848\\916868080.py:19: ComplexWarning: Casting complex values to real discards the imaginary part\n",
      "  H[1,0] = Omega[i].conj()/2\n",
      "C:\\Users\\ASUS\\AppData\\Local\\Temp\\ipykernel_1848\\916868080.py:20: ComplexWarning: Casting complex values to real discards the imaginary part\n",
      "  H[2,3] = Omega[i]/sqrt2\n",
      "C:\\Users\\ASUS\\AppData\\Local\\Temp\\ipykernel_1848\\916868080.py:21: ComplexWarning: Casting complex values to real discards the imaginary part\n",
      "  H[3,2] = Omega[i].conj()/sqrt2\n"
     ]
    },
    {
     "name": "stdout",
     "output_type": "stream",
     "text": [
      "Optimize under the same T: 1.0\n",
      "Optimization terminated successfully.\n",
      "         Current function value: 0.600000\n",
      "         Iterations: 0\n",
      "         Function evaluations: 100\n",
      "         Gradient evaluations: 1\n"
     ]
    },
    {
     "data": {
      "text/plain": [
       "(np.float64(0.6000004867820072), np.float64(0.6000004867820072))"
      ]
     },
     "execution_count": 64,
     "metadata": {},
     "output_type": "execute_result"
    }
   ],
   "source": [
    "# test the optimization process\n",
    "T_sample = 1.0\n",
    "\n",
    "print(f'Optimize under the same T: {T_sample}')\n",
    "sample = Optimalization_2_qubits(T_sample) # Create an instance of the class\n",
    "result_in  = 1 - sample.get_fidelity() # Get the initial fidelity\n",
    "result = sample.optimize() # Optimize the phase angles\n",
    "\n",
    "result_in,result[0]\n"
   ]
  },
  {
   "cell_type": "code",
   "execution_count": 65,
   "metadata": {},
   "outputs": [
    {
     "name": "stdout",
     "output_type": "stream",
     "text": [
      "Optimize under the same T: 10.0\n"
     ]
    },
    {
     "name": "stderr",
     "output_type": "stream",
     "text": [
      "C:\\Users\\ASUS\\AppData\\Local\\Temp\\ipykernel_1848\\916868080.py:18: ComplexWarning: Casting complex values to real discards the imaginary part\n",
      "  H[0,1] = Omega[i]/2\n",
      "C:\\Users\\ASUS\\AppData\\Local\\Temp\\ipykernel_1848\\916868080.py:19: ComplexWarning: Casting complex values to real discards the imaginary part\n",
      "  H[1,0] = Omega[i].conj()/2\n",
      "C:\\Users\\ASUS\\AppData\\Local\\Temp\\ipykernel_1848\\916868080.py:20: ComplexWarning: Casting complex values to real discards the imaginary part\n",
      "  H[2,3] = Omega[i]/sqrt2\n",
      "C:\\Users\\ASUS\\AppData\\Local\\Temp\\ipykernel_1848\\916868080.py:21: ComplexWarning: Casting complex values to real discards the imaginary part\n",
      "  H[3,2] = Omega[i].conj()/sqrt2\n"
     ]
    },
    {
     "name": "stdout",
     "output_type": "stream",
     "text": [
      "Optimization terminated successfully.\n",
      "         Current function value: 0.600000\n",
      "         Iterations: 4\n",
      "         Function evaluations: 600\n",
      "         Gradient evaluations: 6\n"
     ]
    },
    {
     "data": {
      "text/plain": [
       "(np.float64(0.6245705822297861), np.float64(0.6000000000023464))"
      ]
     },
     "execution_count": 65,
     "metadata": {},
     "output_type": "execute_result"
    }
   ],
   "source": [
    "# test the optimization process\n",
    "T_sample = 10.0\n",
    "\n",
    "print(f'Optimize under the same T: {T_sample}')\n",
    "sample = Optimalization_2_qubits(T_sample) # Create an instance of the class\n",
    "result_in  = 1 - sample.get_fidelity() # Get the initial fidelity\n",
    "result = sample.optimize() # Optimize the phase angles\n",
    "\n",
    "result_in,result[0]\n"
   ]
  },
  {
   "cell_type": "code",
   "execution_count": 66,
   "metadata": {},
   "outputs": [
    {
     "name": "stdout",
     "output_type": "stream",
     "text": [
      "Optimize under the same T: 100.0\n"
     ]
    },
    {
     "name": "stderr",
     "output_type": "stream",
     "text": [
      "C:\\Users\\ASUS\\AppData\\Local\\Temp\\ipykernel_1848\\916868080.py:18: ComplexWarning: Casting complex values to real discards the imaginary part\n",
      "  H[0,1] = Omega[i]/2\n",
      "C:\\Users\\ASUS\\AppData\\Local\\Temp\\ipykernel_1848\\916868080.py:19: ComplexWarning: Casting complex values to real discards the imaginary part\n",
      "  H[1,0] = Omega[i].conj()/2\n",
      "C:\\Users\\ASUS\\AppData\\Local\\Temp\\ipykernel_1848\\916868080.py:20: ComplexWarning: Casting complex values to real discards the imaginary part\n",
      "  H[2,3] = Omega[i]/sqrt2\n",
      "C:\\Users\\ASUS\\AppData\\Local\\Temp\\ipykernel_1848\\916868080.py:21: ComplexWarning: Casting complex values to real discards the imaginary part\n",
      "  H[3,2] = Omega[i].conj()/sqrt2\n"
     ]
    },
    {
     "name": "stdout",
     "output_type": "stream",
     "text": [
      "Optimization terminated successfully.\n",
      "         Current function value: 0.426013\n",
      "         Iterations: 5\n",
      "         Function evaluations: 1200\n",
      "         Gradient evaluations: 12\n"
     ]
    },
    {
     "data": {
      "text/plain": [
       "(np.float64(0.8603580683806031), np.float64(0.426012753893657))"
      ]
     },
     "execution_count": 66,
     "metadata": {},
     "output_type": "execute_result"
    }
   ],
   "source": [
    "# test the optimization process\n",
    "T_sample = 100.0\n",
    "\n",
    "print(f'Optimize under the same T: {T_sample}')\n",
    "sample = Optimalization_2_qubits(T_sample) # Create an instance of the class\n",
    "result_in  = 1 - sample.get_fidelity() # Get the initial fidelity\n",
    "result = sample.optimize() # Optimize the phase angles\n",
    "\n",
    "result_in,result[0]"
   ]
  },
  {
   "cell_type": "code",
   "execution_count": 67,
   "metadata": {},
   "outputs": [
    {
     "name": "stdout",
     "output_type": "stream",
     "text": [
      "Optimize under the same T: 100000.0\n"
     ]
    },
    {
     "name": "stderr",
     "output_type": "stream",
     "text": [
      "C:\\Users\\ASUS\\AppData\\Local\\Temp\\ipykernel_1848\\916868080.py:18: ComplexWarning: Casting complex values to real discards the imaginary part\n",
      "  H[0,1] = Omega[i]/2\n",
      "C:\\Users\\ASUS\\AppData\\Local\\Temp\\ipykernel_1848\\916868080.py:19: ComplexWarning: Casting complex values to real discards the imaginary part\n",
      "  H[1,0] = Omega[i].conj()/2\n",
      "C:\\Users\\ASUS\\AppData\\Local\\Temp\\ipykernel_1848\\916868080.py:20: ComplexWarning: Casting complex values to real discards the imaginary part\n",
      "  H[2,3] = Omega[i]/sqrt2\n",
      "C:\\Users\\ASUS\\AppData\\Local\\Temp\\ipykernel_1848\\916868080.py:21: ComplexWarning: Casting complex values to real discards the imaginary part\n",
      "  H[3,2] = Omega[i].conj()/sqrt2\n",
      "C:\\Users\\ASUS\\AppData\\Local\\Temp\\ipykernel_1848\\916868080.py:18: ComplexWarning: Casting complex values to real discards the imaginary part\n",
      "  H[0,1] = Omega[i]/2\n",
      "C:\\Users\\ASUS\\AppData\\Local\\Temp\\ipykernel_1848\\916868080.py:19: ComplexWarning: Casting complex values to real discards the imaginary part\n",
      "  H[1,0] = Omega[i].conj()/2\n",
      "C:\\Users\\ASUS\\AppData\\Local\\Temp\\ipykernel_1848\\916868080.py:20: ComplexWarning: Casting complex values to real discards the imaginary part\n",
      "  H[2,3] = Omega[i]/sqrt2\n",
      "C:\\Users\\ASUS\\AppData\\Local\\Temp\\ipykernel_1848\\916868080.py:21: ComplexWarning: Casting complex values to real discards the imaginary part\n",
      "  H[3,2] = Omega[i].conj()/sqrt2\n"
     ]
    },
    {
     "name": "stdout",
     "output_type": "stream",
     "text": [
      "         Current function value: 0.017243\n",
      "         Iterations: 2\n",
      "         Function evaluations: 4211\n",
      "         Gradient evaluations: 42\n"
     ]
    },
    {
     "name": "stderr",
     "output_type": "stream",
     "text": [
      "c:\\Users\\ASUS\\anaconda3\\envs\\qec\\lib\\site-packages\\scipy\\optimize\\_minimize.py:708: OptimizeWarning: Desired error not necessarily achieved due to precision loss.\n",
      "  res = _minimize_bfgs(fun, x0, args, jac, callback, **options)\n"
     ]
    },
    {
     "data": {
      "text/plain": [
       "(np.float64(0.9142810286770908), np.float64(0.017242975630759272))"
      ]
     },
     "execution_count": 67,
     "metadata": {},
     "output_type": "execute_result"
    }
   ],
   "source": [
    "# test the optimization process\n",
    "T_sample = 100000.0\n",
    "\n",
    "print(f'Optimize under the same T: {T_sample}')\n",
    "sample = Optimalization_2_qubits(T_sample) # Create an instance of the class\n",
    "result_in  = 1 - sample.get_fidelity() # Get the initial fidelity\n",
    "result = sample.optimize() # Optimize the phase angles\n",
    "\n",
    "result_in,result[0]\n"
   ]
  },
  {
   "cell_type": "code",
   "execution_count": null,
   "metadata": {},
   "outputs": [
    {
     "name": "stderr",
     "output_type": "stream",
     "text": [
      "C:\\Users\\ASUS\\AppData\\Local\\Temp\\ipykernel_1848\\916868080.py:18: ComplexWarning: Casting complex values to real discards the imaginary part\n",
      "  H[0,1] = Omega[i]/2\n",
      "C:\\Users\\ASUS\\AppData\\Local\\Temp\\ipykernel_1848\\916868080.py:19: ComplexWarning: Casting complex values to real discards the imaginary part\n",
      "  H[1,0] = Omega[i].conj()/2\n",
      "C:\\Users\\ASUS\\AppData\\Local\\Temp\\ipykernel_1848\\916868080.py:20: ComplexWarning: Casting complex values to real discards the imaginary part\n",
      "  H[2,3] = Omega[i]/sqrt2\n",
      "C:\\Users\\ASUS\\AppData\\Local\\Temp\\ipykernel_1848\\916868080.py:21: ComplexWarning: Casting complex values to real discards the imaginary part\n",
      "  H[3,2] = Omega[i].conj()/sqrt2\n"
     ]
    },
    {
     "name": "stdout",
     "output_type": "stream",
     "text": [
      "Optimize under the same T: 10000.0\n"
     ]
    },
    {
     "name": "stderr",
     "output_type": "stream",
     "text": [
      "C:\\Users\\ASUS\\AppData\\Local\\Temp\\ipykernel_1848\\916868080.py:18: ComplexWarning: Casting complex values to real discards the imaginary part\n",
      "  H[0,1] = Omega[i]/2\n",
      "C:\\Users\\ASUS\\AppData\\Local\\Temp\\ipykernel_1848\\916868080.py:19: ComplexWarning: Casting complex values to real discards the imaginary part\n",
      "  H[1,0] = Omega[i].conj()/2\n",
      "C:\\Users\\ASUS\\AppData\\Local\\Temp\\ipykernel_1848\\916868080.py:20: ComplexWarning: Casting complex values to real discards the imaginary part\n",
      "  H[2,3] = Omega[i]/sqrt2\n",
      "C:\\Users\\ASUS\\AppData\\Local\\Temp\\ipykernel_1848\\916868080.py:21: ComplexWarning: Casting complex values to real discards the imaginary part\n",
      "  H[3,2] = Omega[i].conj()/sqrt2\n",
      "c:\\Users\\ASUS\\anaconda3\\envs\\qec\\lib\\site-packages\\scipy\\optimize\\_minimize.py:708: OptimizeWarning: Desired error not necessarily achieved due to precision loss.\n",
      "  res = _minimize_bfgs(fun, x0, args, jac, callback, **options)\n",
      "C:\\Users\\ASUS\\AppData\\Local\\Temp\\ipykernel_1848\\916868080.py:18: ComplexWarning: Casting complex values to real discards the imaginary part\n",
      "  H[0,1] = Omega[i]/2\n",
      "C:\\Users\\ASUS\\AppData\\Local\\Temp\\ipykernel_1848\\916868080.py:19: ComplexWarning: Casting complex values to real discards the imaginary part\n",
      "  H[1,0] = Omega[i].conj()/2\n",
      "C:\\Users\\ASUS\\AppData\\Local\\Temp\\ipykernel_1848\\916868080.py:20: ComplexWarning: Casting complex values to real discards the imaginary part\n",
      "  H[2,3] = Omega[i]/sqrt2\n",
      "C:\\Users\\ASUS\\AppData\\Local\\Temp\\ipykernel_1848\\916868080.py:21: ComplexWarning: Casting complex values to real discards the imaginary part\n",
      "  H[3,2] = Omega[i].conj()/sqrt2\n"
     ]
    },
    {
     "name": "stdout",
     "output_type": "stream",
     "text": [
      "         Current function value: 0.449829\n",
      "         Iterations: 4\n",
      "         Function evaluations: 3112\n",
      "         Gradient evaluations: 31\n",
      "progress: 1/20, minimum fidelity: 0.4498293774047767\n"
     ]
    },
    {
     "name": "stderr",
     "output_type": "stream",
     "text": [
      "C:\\Users\\ASUS\\AppData\\Local\\Temp\\ipykernel_1848\\916868080.py:18: ComplexWarning: Casting complex values to real discards the imaginary part\n",
      "  H[0,1] = Omega[i]/2\n",
      "C:\\Users\\ASUS\\AppData\\Local\\Temp\\ipykernel_1848\\916868080.py:19: ComplexWarning: Casting complex values to real discards the imaginary part\n",
      "  H[1,0] = Omega[i].conj()/2\n",
      "C:\\Users\\ASUS\\AppData\\Local\\Temp\\ipykernel_1848\\916868080.py:20: ComplexWarning: Casting complex values to real discards the imaginary part\n",
      "  H[2,3] = Omega[i]/sqrt2\n",
      "C:\\Users\\ASUS\\AppData\\Local\\Temp\\ipykernel_1848\\916868080.py:21: ComplexWarning: Casting complex values to real discards the imaginary part\n",
      "  H[3,2] = Omega[i].conj()/sqrt2\n",
      "c:\\Users\\ASUS\\anaconda3\\envs\\qec\\lib\\site-packages\\scipy\\optimize\\_minimize.py:708: OptimizeWarning: Desired error not necessarily achieved due to precision loss.\n",
      "  res = _minimize_bfgs(fun, x0, args, jac, callback, **options)\n",
      "C:\\Users\\ASUS\\AppData\\Local\\Temp\\ipykernel_1848\\916868080.py:18: ComplexWarning: Casting complex values to real discards the imaginary part\n",
      "  H[0,1] = Omega[i]/2\n",
      "C:\\Users\\ASUS\\AppData\\Local\\Temp\\ipykernel_1848\\916868080.py:19: ComplexWarning: Casting complex values to real discards the imaginary part\n",
      "  H[1,0] = Omega[i].conj()/2\n",
      "C:\\Users\\ASUS\\AppData\\Local\\Temp\\ipykernel_1848\\916868080.py:20: ComplexWarning: Casting complex values to real discards the imaginary part\n",
      "  H[2,3] = Omega[i]/sqrt2\n",
      "C:\\Users\\ASUS\\AppData\\Local\\Temp\\ipykernel_1848\\916868080.py:21: ComplexWarning: Casting complex values to real discards the imaginary part\n",
      "  H[3,2] = Omega[i].conj()/sqrt2\n"
     ]
    },
    {
     "name": "stdout",
     "output_type": "stream",
     "text": [
      "         Current function value: 0.015571\n",
      "         Iterations: 2\n",
      "         Function evaluations: 4411\n",
      "         Gradient evaluations: 44\n",
      "progress: 2/20, minimum fidelity: 0.015571156993852586\n"
     ]
    },
    {
     "name": "stderr",
     "output_type": "stream",
     "text": [
      "C:\\Users\\ASUS\\AppData\\Local\\Temp\\ipykernel_1848\\916868080.py:18: ComplexWarning: Casting complex values to real discards the imaginary part\n",
      "  H[0,1] = Omega[i]/2\n",
      "C:\\Users\\ASUS\\AppData\\Local\\Temp\\ipykernel_1848\\916868080.py:19: ComplexWarning: Casting complex values to real discards the imaginary part\n",
      "  H[1,0] = Omega[i].conj()/2\n",
      "C:\\Users\\ASUS\\AppData\\Local\\Temp\\ipykernel_1848\\916868080.py:20: ComplexWarning: Casting complex values to real discards the imaginary part\n",
      "  H[2,3] = Omega[i]/sqrt2\n",
      "C:\\Users\\ASUS\\AppData\\Local\\Temp\\ipykernel_1848\\916868080.py:21: ComplexWarning: Casting complex values to real discards the imaginary part\n",
      "  H[3,2] = Omega[i].conj()/sqrt2\n",
      "c:\\Users\\ASUS\\anaconda3\\envs\\qec\\lib\\site-packages\\scipy\\optimize\\_minimize.py:708: OptimizeWarning: Desired error not necessarily achieved due to precision loss.\n",
      "  res = _minimize_bfgs(fun, x0, args, jac, callback, **options)\n",
      "C:\\Users\\ASUS\\AppData\\Local\\Temp\\ipykernel_1848\\916868080.py:18: ComplexWarning: Casting complex values to real discards the imaginary part\n",
      "  H[0,1] = Omega[i]/2\n",
      "C:\\Users\\ASUS\\AppData\\Local\\Temp\\ipykernel_1848\\916868080.py:19: ComplexWarning: Casting complex values to real discards the imaginary part\n",
      "  H[1,0] = Omega[i].conj()/2\n",
      "C:\\Users\\ASUS\\AppData\\Local\\Temp\\ipykernel_1848\\916868080.py:20: ComplexWarning: Casting complex values to real discards the imaginary part\n",
      "  H[2,3] = Omega[i]/sqrt2\n",
      "C:\\Users\\ASUS\\AppData\\Local\\Temp\\ipykernel_1848\\916868080.py:21: ComplexWarning: Casting complex values to real discards the imaginary part\n",
      "  H[3,2] = Omega[i].conj()/sqrt2\n"
     ]
    },
    {
     "name": "stdout",
     "output_type": "stream",
     "text": [
      "         Current function value: 0.682997\n",
      "         Iterations: 5\n",
      "         Function evaluations: 4510\n",
      "         Gradient evaluations: 45\n",
      "progress: 3/20, minimum fidelity: 0.015571156993852586\n"
     ]
    },
    {
     "name": "stderr",
     "output_type": "stream",
     "text": [
      "C:\\Users\\ASUS\\AppData\\Local\\Temp\\ipykernel_1848\\916868080.py:18: ComplexWarning: Casting complex values to real discards the imaginary part\n",
      "  H[0,1] = Omega[i]/2\n",
      "C:\\Users\\ASUS\\AppData\\Local\\Temp\\ipykernel_1848\\916868080.py:19: ComplexWarning: Casting complex values to real discards the imaginary part\n",
      "  H[1,0] = Omega[i].conj()/2\n",
      "C:\\Users\\ASUS\\AppData\\Local\\Temp\\ipykernel_1848\\916868080.py:20: ComplexWarning: Casting complex values to real discards the imaginary part\n",
      "  H[2,3] = Omega[i]/sqrt2\n",
      "C:\\Users\\ASUS\\AppData\\Local\\Temp\\ipykernel_1848\\916868080.py:21: ComplexWarning: Casting complex values to real discards the imaginary part\n",
      "  H[3,2] = Omega[i].conj()/sqrt2\n",
      "c:\\Users\\ASUS\\anaconda3\\envs\\qec\\lib\\site-packages\\scipy\\optimize\\_minimize.py:708: OptimizeWarning: Desired error not necessarily achieved due to precision loss.\n",
      "  res = _minimize_bfgs(fun, x0, args, jac, callback, **options)\n",
      "C:\\Users\\ASUS\\AppData\\Local\\Temp\\ipykernel_1848\\916868080.py:18: ComplexWarning: Casting complex values to real discards the imaginary part\n",
      "  H[0,1] = Omega[i]/2\n",
      "C:\\Users\\ASUS\\AppData\\Local\\Temp\\ipykernel_1848\\916868080.py:19: ComplexWarning: Casting complex values to real discards the imaginary part\n",
      "  H[1,0] = Omega[i].conj()/2\n",
      "C:\\Users\\ASUS\\AppData\\Local\\Temp\\ipykernel_1848\\916868080.py:20: ComplexWarning: Casting complex values to real discards the imaginary part\n",
      "  H[2,3] = Omega[i]/sqrt2\n",
      "C:\\Users\\ASUS\\AppData\\Local\\Temp\\ipykernel_1848\\916868080.py:21: ComplexWarning: Casting complex values to real discards the imaginary part\n",
      "  H[3,2] = Omega[i].conj()/sqrt2\n"
     ]
    },
    {
     "name": "stdout",
     "output_type": "stream",
     "text": [
      "         Current function value: 0.544322\n",
      "         Iterations: 5\n",
      "         Function evaluations: 2810\n",
      "         Gradient evaluations: 28\n",
      "progress: 4/20, minimum fidelity: 0.015571156993852586\n"
     ]
    },
    {
     "name": "stderr",
     "output_type": "stream",
     "text": [
      "C:\\Users\\ASUS\\AppData\\Local\\Temp\\ipykernel_1848\\916868080.py:18: ComplexWarning: Casting complex values to real discards the imaginary part\n",
      "  H[0,1] = Omega[i]/2\n",
      "C:\\Users\\ASUS\\AppData\\Local\\Temp\\ipykernel_1848\\916868080.py:19: ComplexWarning: Casting complex values to real discards the imaginary part\n",
      "  H[1,0] = Omega[i].conj()/2\n",
      "C:\\Users\\ASUS\\AppData\\Local\\Temp\\ipykernel_1848\\916868080.py:20: ComplexWarning: Casting complex values to real discards the imaginary part\n",
      "  H[2,3] = Omega[i]/sqrt2\n",
      "C:\\Users\\ASUS\\AppData\\Local\\Temp\\ipykernel_1848\\916868080.py:21: ComplexWarning: Casting complex values to real discards the imaginary part\n",
      "  H[3,2] = Omega[i].conj()/sqrt2\n",
      "c:\\Users\\ASUS\\anaconda3\\envs\\qec\\lib\\site-packages\\scipy\\optimize\\_minimize.py:708: OptimizeWarning: Desired error not necessarily achieved due to precision loss.\n",
      "  res = _minimize_bfgs(fun, x0, args, jac, callback, **options)\n",
      "C:\\Users\\ASUS\\AppData\\Local\\Temp\\ipykernel_1848\\916868080.py:18: ComplexWarning: Casting complex values to real discards the imaginary part\n",
      "  H[0,1] = Omega[i]/2\n",
      "C:\\Users\\ASUS\\AppData\\Local\\Temp\\ipykernel_1848\\916868080.py:19: ComplexWarning: Casting complex values to real discards the imaginary part\n",
      "  H[1,0] = Omega[i].conj()/2\n",
      "C:\\Users\\ASUS\\AppData\\Local\\Temp\\ipykernel_1848\\916868080.py:20: ComplexWarning: Casting complex values to real discards the imaginary part\n",
      "  H[2,3] = Omega[i]/sqrt2\n",
      "C:\\Users\\ASUS\\AppData\\Local\\Temp\\ipykernel_1848\\916868080.py:21: ComplexWarning: Casting complex values to real discards the imaginary part\n",
      "  H[3,2] = Omega[i].conj()/sqrt2\n"
     ]
    },
    {
     "name": "stdout",
     "output_type": "stream",
     "text": [
      "         Current function value: 0.808603\n",
      "         Iterations: 5\n",
      "         Function evaluations: 3011\n",
      "         Gradient evaluations: 30\n",
      "progress: 5/20, minimum fidelity: 0.015571156993852586\n"
     ]
    },
    {
     "name": "stderr",
     "output_type": "stream",
     "text": [
      "C:\\Users\\ASUS\\AppData\\Local\\Temp\\ipykernel_1848\\916868080.py:18: ComplexWarning: Casting complex values to real discards the imaginary part\n",
      "  H[0,1] = Omega[i]/2\n",
      "C:\\Users\\ASUS\\AppData\\Local\\Temp\\ipykernel_1848\\916868080.py:19: ComplexWarning: Casting complex values to real discards the imaginary part\n",
      "  H[1,0] = Omega[i].conj()/2\n",
      "C:\\Users\\ASUS\\AppData\\Local\\Temp\\ipykernel_1848\\916868080.py:20: ComplexWarning: Casting complex values to real discards the imaginary part\n",
      "  H[2,3] = Omega[i]/sqrt2\n",
      "C:\\Users\\ASUS\\AppData\\Local\\Temp\\ipykernel_1848\\916868080.py:21: ComplexWarning: Casting complex values to real discards the imaginary part\n",
      "  H[3,2] = Omega[i].conj()/sqrt2\n",
      "c:\\Users\\ASUS\\anaconda3\\envs\\qec\\lib\\site-packages\\scipy\\optimize\\_minimize.py:708: OptimizeWarning: Desired error not necessarily achieved due to precision loss.\n",
      "  res = _minimize_bfgs(fun, x0, args, jac, callback, **options)\n",
      "C:\\Users\\ASUS\\AppData\\Local\\Temp\\ipykernel_1848\\916868080.py:18: ComplexWarning: Casting complex values to real discards the imaginary part\n",
      "  H[0,1] = Omega[i]/2\n",
      "C:\\Users\\ASUS\\AppData\\Local\\Temp\\ipykernel_1848\\916868080.py:19: ComplexWarning: Casting complex values to real discards the imaginary part\n",
      "  H[1,0] = Omega[i].conj()/2\n",
      "C:\\Users\\ASUS\\AppData\\Local\\Temp\\ipykernel_1848\\916868080.py:20: ComplexWarning: Casting complex values to real discards the imaginary part\n",
      "  H[2,3] = Omega[i]/sqrt2\n",
      "C:\\Users\\ASUS\\AppData\\Local\\Temp\\ipykernel_1848\\916868080.py:21: ComplexWarning: Casting complex values to real discards the imaginary part\n",
      "  H[3,2] = Omega[i].conj()/sqrt2\n"
     ]
    },
    {
     "name": "stdout",
     "output_type": "stream",
     "text": [
      "         Current function value: 0.083633\n",
      "         Iterations: 3\n",
      "         Function evaluations: 3710\n",
      "         Gradient evaluations: 37\n",
      "progress: 6/20, minimum fidelity: 0.015571156993852586\n",
      "Optimization terminated successfully.\n",
      "         Current function value: 0.805790\n",
      "         Iterations: 5\n",
      "         Function evaluations: 1000\n",
      "         Gradient evaluations: 10\n",
      "progress: 7/20, minimum fidelity: 0.015571156993852586\n"
     ]
    },
    {
     "name": "stderr",
     "output_type": "stream",
     "text": [
      "C:\\Users\\ASUS\\AppData\\Local\\Temp\\ipykernel_1848\\916868080.py:18: ComplexWarning: Casting complex values to real discards the imaginary part\n",
      "  H[0,1] = Omega[i]/2\n",
      "C:\\Users\\ASUS\\AppData\\Local\\Temp\\ipykernel_1848\\916868080.py:19: ComplexWarning: Casting complex values to real discards the imaginary part\n",
      "  H[1,0] = Omega[i].conj()/2\n",
      "C:\\Users\\ASUS\\AppData\\Local\\Temp\\ipykernel_1848\\916868080.py:20: ComplexWarning: Casting complex values to real discards the imaginary part\n",
      "  H[2,3] = Omega[i]/sqrt2\n",
      "C:\\Users\\ASUS\\AppData\\Local\\Temp\\ipykernel_1848\\916868080.py:21: ComplexWarning: Casting complex values to real discards the imaginary part\n",
      "  H[3,2] = Omega[i].conj()/sqrt2\n",
      "c:\\Users\\ASUS\\anaconda3\\envs\\qec\\lib\\site-packages\\scipy\\optimize\\_minimize.py:708: OptimizeWarning: Desired error not necessarily achieved due to precision loss.\n",
      "  res = _minimize_bfgs(fun, x0, args, jac, callback, **options)\n",
      "C:\\Users\\ASUS\\AppData\\Local\\Temp\\ipykernel_1848\\916868080.py:18: ComplexWarning: Casting complex values to real discards the imaginary part\n",
      "  H[0,1] = Omega[i]/2\n",
      "C:\\Users\\ASUS\\AppData\\Local\\Temp\\ipykernel_1848\\916868080.py:19: ComplexWarning: Casting complex values to real discards the imaginary part\n",
      "  H[1,0] = Omega[i].conj()/2\n",
      "C:\\Users\\ASUS\\AppData\\Local\\Temp\\ipykernel_1848\\916868080.py:20: ComplexWarning: Casting complex values to real discards the imaginary part\n",
      "  H[2,3] = Omega[i]/sqrt2\n",
      "C:\\Users\\ASUS\\AppData\\Local\\Temp\\ipykernel_1848\\916868080.py:21: ComplexWarning: Casting complex values to real discards the imaginary part\n",
      "  H[3,2] = Omega[i].conj()/sqrt2\n"
     ]
    },
    {
     "name": "stdout",
     "output_type": "stream",
     "text": [
      "         Current function value: 0.587788\n",
      "         Iterations: 5\n",
      "         Function evaluations: 3711\n",
      "         Gradient evaluations: 37\n",
      "progress: 8/20, minimum fidelity: 0.015571156993852586\n"
     ]
    },
    {
     "name": "stderr",
     "output_type": "stream",
     "text": [
      "C:\\Users\\ASUS\\AppData\\Local\\Temp\\ipykernel_1848\\916868080.py:18: ComplexWarning: Casting complex values to real discards the imaginary part\n",
      "  H[0,1] = Omega[i]/2\n",
      "C:\\Users\\ASUS\\AppData\\Local\\Temp\\ipykernel_1848\\916868080.py:19: ComplexWarning: Casting complex values to real discards the imaginary part\n",
      "  H[1,0] = Omega[i].conj()/2\n",
      "C:\\Users\\ASUS\\AppData\\Local\\Temp\\ipykernel_1848\\916868080.py:20: ComplexWarning: Casting complex values to real discards the imaginary part\n",
      "  H[2,3] = Omega[i]/sqrt2\n",
      "C:\\Users\\ASUS\\AppData\\Local\\Temp\\ipykernel_1848\\916868080.py:21: ComplexWarning: Casting complex values to real discards the imaginary part\n",
      "  H[3,2] = Omega[i].conj()/sqrt2\n",
      "c:\\Users\\ASUS\\anaconda3\\envs\\qec\\lib\\site-packages\\scipy\\optimize\\_minimize.py:708: OptimizeWarning: Desired error not necessarily achieved due to precision loss.\n",
      "  res = _minimize_bfgs(fun, x0, args, jac, callback, **options)\n",
      "C:\\Users\\ASUS\\AppData\\Local\\Temp\\ipykernel_1848\\916868080.py:18: ComplexWarning: Casting complex values to real discards the imaginary part\n",
      "  H[0,1] = Omega[i]/2\n",
      "C:\\Users\\ASUS\\AppData\\Local\\Temp\\ipykernel_1848\\916868080.py:19: ComplexWarning: Casting complex values to real discards the imaginary part\n",
      "  H[1,0] = Omega[i].conj()/2\n",
      "C:\\Users\\ASUS\\AppData\\Local\\Temp\\ipykernel_1848\\916868080.py:20: ComplexWarning: Casting complex values to real discards the imaginary part\n",
      "  H[2,3] = Omega[i]/sqrt2\n",
      "C:\\Users\\ASUS\\AppData\\Local\\Temp\\ipykernel_1848\\916868080.py:21: ComplexWarning: Casting complex values to real discards the imaginary part\n",
      "  H[3,2] = Omega[i].conj()/sqrt2\n"
     ]
    },
    {
     "name": "stdout",
     "output_type": "stream",
     "text": [
      "         Current function value: 0.179710\n",
      "         Iterations: 3\n",
      "         Function evaluations: 4511\n",
      "         Gradient evaluations: 45\n",
      "progress: 9/20, minimum fidelity: 0.015571156993852586\n"
     ]
    },
    {
     "name": "stderr",
     "output_type": "stream",
     "text": [
      "C:\\Users\\ASUS\\AppData\\Local\\Temp\\ipykernel_1848\\916868080.py:18: ComplexWarning: Casting complex values to real discards the imaginary part\n",
      "  H[0,1] = Omega[i]/2\n",
      "C:\\Users\\ASUS\\AppData\\Local\\Temp\\ipykernel_1848\\916868080.py:19: ComplexWarning: Casting complex values to real discards the imaginary part\n",
      "  H[1,0] = Omega[i].conj()/2\n",
      "C:\\Users\\ASUS\\AppData\\Local\\Temp\\ipykernel_1848\\916868080.py:20: ComplexWarning: Casting complex values to real discards the imaginary part\n",
      "  H[2,3] = Omega[i]/sqrt2\n",
      "C:\\Users\\ASUS\\AppData\\Local\\Temp\\ipykernel_1848\\916868080.py:21: ComplexWarning: Casting complex values to real discards the imaginary part\n",
      "  H[3,2] = Omega[i].conj()/sqrt2\n"
     ]
    },
    {
     "name": "stdout",
     "output_type": "stream",
     "text": [
      "         Current function value: 0.262842\n",
      "         Iterations: 5\n",
      "         Function evaluations: 4510\n",
      "         Gradient evaluations: 45\n",
      "progress: 10/20, minimum fidelity: 0.015571156993852586\n"
     ]
    },
    {
     "name": "stderr",
     "output_type": "stream",
     "text": [
      "c:\\Users\\ASUS\\anaconda3\\envs\\qec\\lib\\site-packages\\scipy\\optimize\\_minimize.py:708: OptimizeWarning: Desired error not necessarily achieved due to precision loss.\n",
      "  res = _minimize_bfgs(fun, x0, args, jac, callback, **options)\n"
     ]
    },
    {
     "data": {
      "image/png": "[encoded data removed]",
      "text/plain": [
       "<Figure size 640x480 with 1 Axes>"
      ]
     },
     "metadata": {},
     "output_type": "display_data"
    }
   ],
   "source": [
    "results = []\n",
    "phis = []\n",
    "count = 0\n",
    "T_sample = 10000.0\n",
    "# test the stabullity of the optimization\n",
    "print(f'Optimize under the same T: {T_sample}')\n",
    "for i in range(10):\n",
    "    count += 1\n",
    "    sample = Optimalization_2_qubits(T_sample) # Create an instance of the class\n",
    "    result = sample.optimize() # Optimize the phase angles\n",
    "    \n",
    "    results.append(result[0]) # Append the minimum fidelity to the results list\n",
    "    phis.append(result[1]) # Append the optimized phase angles to the phis list\n",
    "    \n",
    "    print(f\"progress: {count}/20, minimum fidelity: {np.min(results)}\")\n",
    "\n"
   ]
  },
  {
   "cell_type": "code",
   "execution_count": null,
   "metadata": {},
   "outputs": [],
   "source": [
    "plt.hist(results, bins=10, density=True, alpha=0.7, color='blue')\n",
    "plt.title('Histogram of 1-F')\n",
    "plt.ylabel('Probability Density')\n",
    "plt.grid(True)\n",
    "plt.xlabel('1-F')\n",
    "plt.show()"
   ]
  },
  {
   "cell_type": "code",
   "execution_count": null,
   "metadata": {},
   "outputs": [
    {
     "name": "stderr",
     "output_type": "stream",
     "text": [
      "C:\\Users\\ASUS\\AppData\\Local\\Temp\\ipykernel_1848\\916868080.py:18: ComplexWarning: Casting complex values to real discards the imaginary part\n",
      "  H[0,1] = Omega[i]/2\n",
      "C:\\Users\\ASUS\\AppData\\Local\\Temp\\ipykernel_1848\\916868080.py:19: ComplexWarning: Casting complex values to real discards the imaginary part\n",
      "  H[1,0] = Omega[i].conj()/2\n",
      "C:\\Users\\ASUS\\AppData\\Local\\Temp\\ipykernel_1848\\916868080.py:20: ComplexWarning: Casting complex values to real discards the imaginary part\n",
      "  H[2,3] = Omega[i]/sqrt2\n",
      "C:\\Users\\ASUS\\AppData\\Local\\Temp\\ipykernel_1848\\916868080.py:21: ComplexWarning: Casting complex values to real discards the imaginary part\n",
      "  H[3,2] = Omega[i].conj()/sqrt2\n"
     ]
    },
    {
     "name": "stdout",
     "output_type": "stream",
     "text": [
      "progress: 1/100\n",
      "Optimization terminated successfully.\n",
      "         Current function value: 0.600000\n",
      "         Iterations: 0\n",
      "         Function evaluations: 100\n",
      "         Gradient evaluations: 1\n",
      "progress: 2/100\n",
      "Optimization terminated successfully.\n",
      "         Current function value: 0.641755\n",
      "         Iterations: 4\n",
      "         Function evaluations: 800\n",
      "         Gradient evaluations: 8\n",
      "progress: 3/100\n",
      "Optimization terminated successfully.\n",
      "         Current function value: 0.309569\n",
      "         Iterations: 4\n",
      "         Function evaluations: 1200\n",
      "         Gradient evaluations: 12\n",
      "progress: 4/100\n",
      "Optimization terminated successfully.\n",
      "         Current function value: 0.599107\n",
      "         Iterations: 5\n",
      "         Function evaluations: 900\n",
      "         Gradient evaluations: 9\n",
      "progress: 5/100\n",
      "Optimization terminated successfully.\n",
      "         Current function value: 0.015571\n",
      "         Iterations: 4\n",
      "         Function evaluations: 1100\n",
      "         Gradient evaluations: 11\n",
      "progress: 6/100\n"
     ]
    },
    {
     "name": "stderr",
     "output_type": "stream",
     "text": [
      "C:\\Users\\ASUS\\AppData\\Local\\Temp\\ipykernel_1848\\916868080.py:18: ComplexWarning: Casting complex values to real discards the imaginary part\n",
      "  H[0,1] = Omega[i]/2\n",
      "C:\\Users\\ASUS\\AppData\\Local\\Temp\\ipykernel_1848\\916868080.py:19: ComplexWarning: Casting complex values to real discards the imaginary part\n",
      "  H[1,0] = Omega[i].conj()/2\n",
      "C:\\Users\\ASUS\\AppData\\Local\\Temp\\ipykernel_1848\\916868080.py:20: ComplexWarning: Casting complex values to real discards the imaginary part\n",
      "  H[2,3] = Omega[i]/sqrt2\n",
      "C:\\Users\\ASUS\\AppData\\Local\\Temp\\ipykernel_1848\\916868080.py:21: ComplexWarning: Casting complex values to real discards the imaginary part\n",
      "  H[3,2] = Omega[i].conj()/sqrt2\n",
      "c:\\Users\\ASUS\\anaconda3\\envs\\qec\\lib\\site-packages\\scipy\\optimize\\_minimize.py:708: OptimizeWarning: Desired error not necessarily achieved due to precision loss.\n",
      "  res = _minimize_bfgs(fun, x0, args, jac, callback, **options)\n",
      "C:\\Users\\ASUS\\AppData\\Local\\Temp\\ipykernel_1848\\916868080.py:18: ComplexWarning: Casting complex values to real discards the imaginary part\n",
      "  H[0,1] = Omega[i]/2\n",
      "C:\\Users\\ASUS\\AppData\\Local\\Temp\\ipykernel_1848\\916868080.py:19: ComplexWarning: Casting complex values to real discards the imaginary part\n",
      "  H[1,0] = Omega[i].conj()/2\n",
      "C:\\Users\\ASUS\\AppData\\Local\\Temp\\ipykernel_1848\\916868080.py:20: ComplexWarning: Casting complex values to real discards the imaginary part\n",
      "  H[2,3] = Omega[i]/sqrt2\n",
      "C:\\Users\\ASUS\\AppData\\Local\\Temp\\ipykernel_1848\\916868080.py:21: ComplexWarning: Casting complex values to real discards the imaginary part\n",
      "  H[3,2] = Omega[i].conj()/sqrt2\n"
     ]
    },
    {
     "name": "stdout",
     "output_type": "stream",
     "text": [
      "         Current function value: 0.600220\n",
      "         Iterations: 5\n",
      "         Function evaluations: 2711\n",
      "         Gradient evaluations: 27\n",
      "progress: 7/100\n"
     ]
    },
    {
     "name": "stderr",
     "output_type": "stream",
     "text": [
      "C:\\Users\\ASUS\\AppData\\Local\\Temp\\ipykernel_1848\\916868080.py:18: ComplexWarning: Casting complex values to real discards the imaginary part\n",
      "  H[0,1] = Omega[i]/2\n",
      "C:\\Users\\ASUS\\AppData\\Local\\Temp\\ipykernel_1848\\916868080.py:19: ComplexWarning: Casting complex values to real discards the imaginary part\n",
      "  H[1,0] = Omega[i].conj()/2\n",
      "C:\\Users\\ASUS\\AppData\\Local\\Temp\\ipykernel_1848\\916868080.py:20: ComplexWarning: Casting complex values to real discards the imaginary part\n",
      "  H[2,3] = Omega[i]/sqrt2\n",
      "C:\\Users\\ASUS\\AppData\\Local\\Temp\\ipykernel_1848\\916868080.py:21: ComplexWarning: Casting complex values to real discards the imaginary part\n",
      "  H[3,2] = Omega[i].conj()/sqrt2\n",
      "c:\\Users\\ASUS\\anaconda3\\envs\\qec\\lib\\site-packages\\scipy\\optimize\\_minimize.py:708: OptimizeWarning: Desired error not necessarily achieved due to precision loss.\n",
      "  res = _minimize_bfgs(fun, x0, args, jac, callback, **options)\n",
      "C:\\Users\\ASUS\\AppData\\Local\\Temp\\ipykernel_1848\\916868080.py:18: ComplexWarning: Casting complex values to real discards the imaginary part\n",
      "  H[0,1] = Omega[i]/2\n",
      "C:\\Users\\ASUS\\AppData\\Local\\Temp\\ipykernel_1848\\916868080.py:19: ComplexWarning: Casting complex values to real discards the imaginary part\n",
      "  H[1,0] = Omega[i].conj()/2\n",
      "C:\\Users\\ASUS\\AppData\\Local\\Temp\\ipykernel_1848\\916868080.py:20: ComplexWarning: Casting complex values to real discards the imaginary part\n",
      "  H[2,3] = Omega[i]/sqrt2\n",
      "C:\\Users\\ASUS\\AppData\\Local\\Temp\\ipykernel_1848\\916868080.py:21: ComplexWarning: Casting complex values to real discards the imaginary part\n",
      "  H[3,2] = Omega[i].conj()/sqrt2\n"
     ]
    },
    {
     "name": "stdout",
     "output_type": "stream",
     "text": [
      "         Current function value: 0.618461\n",
      "         Iterations: 4\n",
      "         Function evaluations: 3009\n",
      "         Gradient evaluations: 30\n",
      "progress: 8/100\n",
      "Optimization terminated successfully.\n",
      "         Current function value: 0.590085\n",
      "         Iterations: 5\n",
      "         Function evaluations: 900\n",
      "         Gradient evaluations: 9\n",
      "progress: 9/100\n"
     ]
    },
    {
     "name": "stderr",
     "output_type": "stream",
     "text": [
      "C:\\Users\\ASUS\\AppData\\Local\\Temp\\ipykernel_1848\\916868080.py:18: ComplexWarning: Casting complex values to real discards the imaginary part\n",
      "  H[0,1] = Omega[i]/2\n",
      "C:\\Users\\ASUS\\AppData\\Local\\Temp\\ipykernel_1848\\916868080.py:19: ComplexWarning: Casting complex values to real discards the imaginary part\n",
      "  H[1,0] = Omega[i].conj()/2\n",
      "C:\\Users\\ASUS\\AppData\\Local\\Temp\\ipykernel_1848\\916868080.py:20: ComplexWarning: Casting complex values to real discards the imaginary part\n",
      "  H[2,3] = Omega[i]/sqrt2\n",
      "C:\\Users\\ASUS\\AppData\\Local\\Temp\\ipykernel_1848\\916868080.py:21: ComplexWarning: Casting complex values to real discards the imaginary part\n",
      "  H[3,2] = Omega[i].conj()/sqrt2\n",
      "c:\\Users\\ASUS\\anaconda3\\envs\\qec\\lib\\site-packages\\scipy\\optimize\\_minimize.py:708: OptimizeWarning: Desired error not necessarily achieved due to precision loss.\n",
      "  res = _minimize_bfgs(fun, x0, args, jac, callback, **options)\n",
      "C:\\Users\\ASUS\\AppData\\Local\\Temp\\ipykernel_1848\\916868080.py:18: ComplexWarning: Casting complex values to real discards the imaginary part\n",
      "  H[0,1] = Omega[i]/2\n",
      "C:\\Users\\ASUS\\AppData\\Local\\Temp\\ipykernel_1848\\916868080.py:19: ComplexWarning: Casting complex values to real discards the imaginary part\n",
      "  H[1,0] = Omega[i].conj()/2\n",
      "C:\\Users\\ASUS\\AppData\\Local\\Temp\\ipykernel_1848\\916868080.py:20: ComplexWarning: Casting complex values to real discards the imaginary part\n",
      "  H[2,3] = Omega[i]/sqrt2\n",
      "C:\\Users\\ASUS\\AppData\\Local\\Temp\\ipykernel_1848\\916868080.py:21: ComplexWarning: Casting complex values to real discards the imaginary part\n",
      "  H[3,2] = Omega[i].conj()/sqrt2\n"
     ]
    },
    {
     "name": "stdout",
     "output_type": "stream",
     "text": [
      "         Current function value: 0.092536\n",
      "         Iterations: 4\n",
      "         Function evaluations: 4211\n",
      "         Gradient evaluations: 42\n",
      "progress: 10/100\n"
     ]
    },
    {
     "name": "stderr",
     "output_type": "stream",
     "text": [
      "C:\\Users\\ASUS\\AppData\\Local\\Temp\\ipykernel_1848\\916868080.py:18: ComplexWarning: Casting complex values to real discards the imaginary part\n",
      "  H[0,1] = Omega[i]/2\n",
      "C:\\Users\\ASUS\\AppData\\Local\\Temp\\ipykernel_1848\\916868080.py:19: ComplexWarning: Casting complex values to real discards the imaginary part\n",
      "  H[1,0] = Omega[i].conj()/2\n",
      "C:\\Users\\ASUS\\AppData\\Local\\Temp\\ipykernel_1848\\916868080.py:20: ComplexWarning: Casting complex values to real discards the imaginary part\n",
      "  H[2,3] = Omega[i]/sqrt2\n",
      "C:\\Users\\ASUS\\AppData\\Local\\Temp\\ipykernel_1848\\916868080.py:21: ComplexWarning: Casting complex values to real discards the imaginary part\n",
      "  H[3,2] = Omega[i].conj()/sqrt2\n",
      "c:\\Users\\ASUS\\anaconda3\\envs\\qec\\lib\\site-packages\\scipy\\optimize\\_minimize.py:708: OptimizeWarning: Desired error not necessarily achieved due to precision loss.\n",
      "  res = _minimize_bfgs(fun, x0, args, jac, callback, **options)\n",
      "C:\\Users\\ASUS\\AppData\\Local\\Temp\\ipykernel_1848\\916868080.py:18: ComplexWarning: Casting complex values to real discards the imaginary part\n",
      "  H[0,1] = Omega[i]/2\n",
      "C:\\Users\\ASUS\\AppData\\Local\\Temp\\ipykernel_1848\\916868080.py:19: ComplexWarning: Casting complex values to real discards the imaginary part\n",
      "  H[1,0] = Omega[i].conj()/2\n",
      "C:\\Users\\ASUS\\AppData\\Local\\Temp\\ipykernel_1848\\916868080.py:20: ComplexWarning: Casting complex values to real discards the imaginary part\n",
      "  H[2,3] = Omega[i]/sqrt2\n",
      "C:\\Users\\ASUS\\AppData\\Local\\Temp\\ipykernel_1848\\916868080.py:21: ComplexWarning: Casting complex values to real discards the imaginary part\n",
      "  H[3,2] = Omega[i].conj()/sqrt2\n"
     ]
    },
    {
     "name": "stdout",
     "output_type": "stream",
     "text": [
      "         Current function value: 0.151833\n",
      "         Iterations: 3\n",
      "         Function evaluations: 3111\n",
      "         Gradient evaluations: 31\n",
      "progress: 11/100\n"
     ]
    },
    {
     "name": "stderr",
     "output_type": "stream",
     "text": [
      "C:\\Users\\ASUS\\AppData\\Local\\Temp\\ipykernel_1848\\916868080.py:18: ComplexWarning: Casting complex values to real discards the imaginary part\n",
      "  H[0,1] = Omega[i]/2\n",
      "C:\\Users\\ASUS\\AppData\\Local\\Temp\\ipykernel_1848\\916868080.py:19: ComplexWarning: Casting complex values to real discards the imaginary part\n",
      "  H[1,0] = Omega[i].conj()/2\n",
      "C:\\Users\\ASUS\\AppData\\Local\\Temp\\ipykernel_1848\\916868080.py:20: ComplexWarning: Casting complex values to real discards the imaginary part\n",
      "  H[2,3] = Omega[i]/sqrt2\n",
      "C:\\Users\\ASUS\\AppData\\Local\\Temp\\ipykernel_1848\\916868080.py:21: ComplexWarning: Casting complex values to real discards the imaginary part\n",
      "  H[3,2] = Omega[i].conj()/sqrt2\n",
      "c:\\Users\\ASUS\\anaconda3\\envs\\qec\\lib\\site-packages\\scipy\\optimize\\_minimize.py:708: OptimizeWarning: Desired error not necessarily achieved due to precision loss.\n",
      "  res = _minimize_bfgs(fun, x0, args, jac, callback, **options)\n",
      "C:\\Users\\ASUS\\AppData\\Local\\Temp\\ipykernel_1848\\916868080.py:18: ComplexWarning: Casting complex values to real discards the imaginary part\n",
      "  H[0,1] = Omega[i]/2\n",
      "C:\\Users\\ASUS\\AppData\\Local\\Temp\\ipykernel_1848\\916868080.py:19: ComplexWarning: Casting complex values to real discards the imaginary part\n",
      "  H[1,0] = Omega[i].conj()/2\n",
      "C:\\Users\\ASUS\\AppData\\Local\\Temp\\ipykernel_1848\\916868080.py:20: ComplexWarning: Casting complex values to real discards the imaginary part\n",
      "  H[2,3] = Omega[i]/sqrt2\n",
      "C:\\Users\\ASUS\\AppData\\Local\\Temp\\ipykernel_1848\\916868080.py:21: ComplexWarning: Casting complex values to real discards the imaginary part\n",
      "  H[3,2] = Omega[i].conj()/sqrt2\n"
     ]
    },
    {
     "name": "stdout",
     "output_type": "stream",
     "text": [
      "         Current function value: 0.778154\n",
      "         Iterations: 7\n",
      "         Function evaluations: 4411\n",
      "         Gradient evaluations: 44\n",
      "progress: 12/100\n",
      "Optimization terminated successfully.\n",
      "         Current function value: 0.551316\n",
      "         Iterations: 4\n",
      "         Function evaluations: 900\n",
      "         Gradient evaluations: 9\n",
      "progress: 13/100\n"
     ]
    },
    {
     "name": "stderr",
     "output_type": "stream",
     "text": [
      "C:\\Users\\ASUS\\AppData\\Local\\Temp\\ipykernel_1848\\916868080.py:18: ComplexWarning: Casting complex values to real discards the imaginary part\n",
      "  H[0,1] = Omega[i]/2\n",
      "C:\\Users\\ASUS\\AppData\\Local\\Temp\\ipykernel_1848\\916868080.py:19: ComplexWarning: Casting complex values to real discards the imaginary part\n",
      "  H[1,0] = Omega[i].conj()/2\n",
      "C:\\Users\\ASUS\\AppData\\Local\\Temp\\ipykernel_1848\\916868080.py:20: ComplexWarning: Casting complex values to real discards the imaginary part\n",
      "  H[2,3] = Omega[i]/sqrt2\n",
      "C:\\Users\\ASUS\\AppData\\Local\\Temp\\ipykernel_1848\\916868080.py:21: ComplexWarning: Casting complex values to real discards the imaginary part\n",
      "  H[3,2] = Omega[i].conj()/sqrt2\n",
      "c:\\Users\\ASUS\\anaconda3\\envs\\qec\\lib\\site-packages\\scipy\\optimize\\_minimize.py:708: OptimizeWarning: Desired error not necessarily achieved due to precision loss.\n",
      "  res = _minimize_bfgs(fun, x0, args, jac, callback, **options)\n",
      "C:\\Users\\ASUS\\AppData\\Local\\Temp\\ipykernel_1848\\916868080.py:18: ComplexWarning: Casting complex values to real discards the imaginary part\n",
      "  H[0,1] = Omega[i]/2\n",
      "C:\\Users\\ASUS\\AppData\\Local\\Temp\\ipykernel_1848\\916868080.py:19: ComplexWarning: Casting complex values to real discards the imaginary part\n",
      "  H[1,0] = Omega[i].conj()/2\n",
      "C:\\Users\\ASUS\\AppData\\Local\\Temp\\ipykernel_1848\\916868080.py:20: ComplexWarning: Casting complex values to real discards the imaginary part\n",
      "  H[2,3] = Omega[i]/sqrt2\n",
      "C:\\Users\\ASUS\\AppData\\Local\\Temp\\ipykernel_1848\\916868080.py:21: ComplexWarning: Casting complex values to real discards the imaginary part\n",
      "  H[3,2] = Omega[i].conj()/sqrt2\n"
     ]
    },
    {
     "name": "stdout",
     "output_type": "stream",
     "text": [
      "         Current function value: 0.595767\n",
      "         Iterations: 3\n",
      "         Function evaluations: 3811\n",
      "         Gradient evaluations: 38\n",
      "progress: 14/100\n"
     ]
    },
    {
     "name": "stderr",
     "output_type": "stream",
     "text": [
      "C:\\Users\\ASUS\\AppData\\Local\\Temp\\ipykernel_1848\\916868080.py:18: ComplexWarning: Casting complex values to real discards the imaginary part\n",
      "  H[0,1] = Omega[i]/2\n",
      "C:\\Users\\ASUS\\AppData\\Local\\Temp\\ipykernel_1848\\916868080.py:19: ComplexWarning: Casting complex values to real discards the imaginary part\n",
      "  H[1,0] = Omega[i].conj()/2\n",
      "C:\\Users\\ASUS\\AppData\\Local\\Temp\\ipykernel_1848\\916868080.py:20: ComplexWarning: Casting complex values to real discards the imaginary part\n",
      "  H[2,3] = Omega[i]/sqrt2\n",
      "C:\\Users\\ASUS\\AppData\\Local\\Temp\\ipykernel_1848\\916868080.py:21: ComplexWarning: Casting complex values to real discards the imaginary part\n",
      "  H[3,2] = Omega[i].conj()/sqrt2\n",
      "c:\\Users\\ASUS\\anaconda3\\envs\\qec\\lib\\site-packages\\scipy\\optimize\\_minimize.py:708: OptimizeWarning: Desired error not necessarily achieved due to precision loss.\n",
      "  res = _minimize_bfgs(fun, x0, args, jac, callback, **options)\n",
      "C:\\Users\\ASUS\\AppData\\Local\\Temp\\ipykernel_1848\\916868080.py:18: ComplexWarning: Casting complex values to real discards the imaginary part\n",
      "  H[0,1] = Omega[i]/2\n",
      "C:\\Users\\ASUS\\AppData\\Local\\Temp\\ipykernel_1848\\916868080.py:19: ComplexWarning: Casting complex values to real discards the imaginary part\n",
      "  H[1,0] = Omega[i].conj()/2\n",
      "C:\\Users\\ASUS\\AppData\\Local\\Temp\\ipykernel_1848\\916868080.py:20: ComplexWarning: Casting complex values to real discards the imaginary part\n",
      "  H[2,3] = Omega[i]/sqrt2\n",
      "C:\\Users\\ASUS\\AppData\\Local\\Temp\\ipykernel_1848\\916868080.py:21: ComplexWarning: Casting complex values to real discards the imaginary part\n",
      "  H[3,2] = Omega[i].conj()/sqrt2\n"
     ]
    },
    {
     "name": "stdout",
     "output_type": "stream",
     "text": [
      "         Current function value: 0.744560\n",
      "         Iterations: 6\n",
      "         Function evaluations: 3311\n",
      "         Gradient evaluations: 33\n",
      "progress: 15/100\n"
     ]
    },
    {
     "name": "stderr",
     "output_type": "stream",
     "text": [
      "C:\\Users\\ASUS\\AppData\\Local\\Temp\\ipykernel_1848\\916868080.py:18: ComplexWarning: Casting complex values to real discards the imaginary part\n",
      "  H[0,1] = Omega[i]/2\n",
      "C:\\Users\\ASUS\\AppData\\Local\\Temp\\ipykernel_1848\\916868080.py:19: ComplexWarning: Casting complex values to real discards the imaginary part\n",
      "  H[1,0] = Omega[i].conj()/2\n",
      "C:\\Users\\ASUS\\AppData\\Local\\Temp\\ipykernel_1848\\916868080.py:20: ComplexWarning: Casting complex values to real discards the imaginary part\n",
      "  H[2,3] = Omega[i]/sqrt2\n",
      "C:\\Users\\ASUS\\AppData\\Local\\Temp\\ipykernel_1848\\916868080.py:21: ComplexWarning: Casting complex values to real discards the imaginary part\n",
      "  H[3,2] = Omega[i].conj()/sqrt2\n",
      "c:\\Users\\ASUS\\anaconda3\\envs\\qec\\lib\\site-packages\\scipy\\optimize\\_minimize.py:708: OptimizeWarning: Desired error not necessarily achieved due to precision loss.\n",
      "  res = _minimize_bfgs(fun, x0, args, jac, callback, **options)\n",
      "C:\\Users\\ASUS\\AppData\\Local\\Temp\\ipykernel_1848\\916868080.py:18: ComplexWarning: Casting complex values to real discards the imaginary part\n",
      "  H[0,1] = Omega[i]/2\n",
      "C:\\Users\\ASUS\\AppData\\Local\\Temp\\ipykernel_1848\\916868080.py:19: ComplexWarning: Casting complex values to real discards the imaginary part\n",
      "  H[1,0] = Omega[i].conj()/2\n",
      "C:\\Users\\ASUS\\AppData\\Local\\Temp\\ipykernel_1848\\916868080.py:20: ComplexWarning: Casting complex values to real discards the imaginary part\n",
      "  H[2,3] = Omega[i]/sqrt2\n",
      "C:\\Users\\ASUS\\AppData\\Local\\Temp\\ipykernel_1848\\916868080.py:21: ComplexWarning: Casting complex values to real discards the imaginary part\n",
      "  H[3,2] = Omega[i].conj()/sqrt2\n"
     ]
    },
    {
     "name": "stdout",
     "output_type": "stream",
     "text": [
      "         Current function value: 0.491911\n",
      "         Iterations: 3\n",
      "         Function evaluations: 3012\n",
      "         Gradient evaluations: 30\n",
      "progress: 16/100\n"
     ]
    },
    {
     "name": "stderr",
     "output_type": "stream",
     "text": [
      "C:\\Users\\ASUS\\AppData\\Local\\Temp\\ipykernel_1848\\916868080.py:18: ComplexWarning: Casting complex values to real discards the imaginary part\n",
      "  H[0,1] = Omega[i]/2\n",
      "C:\\Users\\ASUS\\AppData\\Local\\Temp\\ipykernel_1848\\916868080.py:19: ComplexWarning: Casting complex values to real discards the imaginary part\n",
      "  H[1,0] = Omega[i].conj()/2\n",
      "C:\\Users\\ASUS\\AppData\\Local\\Temp\\ipykernel_1848\\916868080.py:20: ComplexWarning: Casting complex values to real discards the imaginary part\n",
      "  H[2,3] = Omega[i]/sqrt2\n",
      "C:\\Users\\ASUS\\AppData\\Local\\Temp\\ipykernel_1848\\916868080.py:21: ComplexWarning: Casting complex values to real discards the imaginary part\n",
      "  H[3,2] = Omega[i].conj()/sqrt2\n",
      "c:\\Users\\ASUS\\anaconda3\\envs\\qec\\lib\\site-packages\\scipy\\optimize\\_minimize.py:708: OptimizeWarning: Desired error not necessarily achieved due to precision loss.\n",
      "  res = _minimize_bfgs(fun, x0, args, jac, callback, **options)\n",
      "C:\\Users\\ASUS\\AppData\\Local\\Temp\\ipykernel_1848\\916868080.py:18: ComplexWarning: Casting complex values to real discards the imaginary part\n",
      "  H[0,1] = Omega[i]/2\n",
      "C:\\Users\\ASUS\\AppData\\Local\\Temp\\ipykernel_1848\\916868080.py:19: ComplexWarning: Casting complex values to real discards the imaginary part\n",
      "  H[1,0] = Omega[i].conj()/2\n",
      "C:\\Users\\ASUS\\AppData\\Local\\Temp\\ipykernel_1848\\916868080.py:20: ComplexWarning: Casting complex values to real discards the imaginary part\n",
      "  H[2,3] = Omega[i]/sqrt2\n",
      "C:\\Users\\ASUS\\AppData\\Local\\Temp\\ipykernel_1848\\916868080.py:21: ComplexWarning: Casting complex values to real discards the imaginary part\n",
      "  H[3,2] = Omega[i].conj()/sqrt2\n"
     ]
    },
    {
     "name": "stdout",
     "output_type": "stream",
     "text": [
      "         Current function value: 0.381831\n",
      "         Iterations: 2\n",
      "         Function evaluations: 4411\n",
      "         Gradient evaluations: 44\n",
      "progress: 17/100\n"
     ]
    },
    {
     "name": "stderr",
     "output_type": "stream",
     "text": [
      "C:\\Users\\ASUS\\AppData\\Local\\Temp\\ipykernel_1848\\916868080.py:18: ComplexWarning: Casting complex values to real discards the imaginary part\n",
      "  H[0,1] = Omega[i]/2\n",
      "C:\\Users\\ASUS\\AppData\\Local\\Temp\\ipykernel_1848\\916868080.py:19: ComplexWarning: Casting complex values to real discards the imaginary part\n",
      "  H[1,0] = Omega[i].conj()/2\n",
      "C:\\Users\\ASUS\\AppData\\Local\\Temp\\ipykernel_1848\\916868080.py:20: ComplexWarning: Casting complex values to real discards the imaginary part\n",
      "  H[2,3] = Omega[i]/sqrt2\n",
      "C:\\Users\\ASUS\\AppData\\Local\\Temp\\ipykernel_1848\\916868080.py:21: ComplexWarning: Casting complex values to real discards the imaginary part\n",
      "  H[3,2] = Omega[i].conj()/sqrt2\n",
      "c:\\Users\\ASUS\\anaconda3\\envs\\qec\\lib\\site-packages\\scipy\\optimize\\_minimize.py:708: OptimizeWarning: Desired error not necessarily achieved due to precision loss.\n",
      "  res = _minimize_bfgs(fun, x0, args, jac, callback, **options)\n",
      "C:\\Users\\ASUS\\AppData\\Local\\Temp\\ipykernel_1848\\916868080.py:18: ComplexWarning: Casting complex values to real discards the imaginary part\n",
      "  H[0,1] = Omega[i]/2\n",
      "C:\\Users\\ASUS\\AppData\\Local\\Temp\\ipykernel_1848\\916868080.py:19: ComplexWarning: Casting complex values to real discards the imaginary part\n",
      "  H[1,0] = Omega[i].conj()/2\n",
      "C:\\Users\\ASUS\\AppData\\Local\\Temp\\ipykernel_1848\\916868080.py:20: ComplexWarning: Casting complex values to real discards the imaginary part\n",
      "  H[2,3] = Omega[i]/sqrt2\n",
      "C:\\Users\\ASUS\\AppData\\Local\\Temp\\ipykernel_1848\\916868080.py:21: ComplexWarning: Casting complex values to real discards the imaginary part\n",
      "  H[3,2] = Omega[i].conj()/sqrt2\n"
     ]
    },
    {
     "name": "stdout",
     "output_type": "stream",
     "text": [
      "         Current function value: 0.592809\n",
      "         Iterations: 3\n",
      "         Function evaluations: 3810\n",
      "         Gradient evaluations: 38\n",
      "progress: 18/100\n"
     ]
    },
    {
     "name": "stderr",
     "output_type": "stream",
     "text": [
      "C:\\Users\\ASUS\\AppData\\Local\\Temp\\ipykernel_1848\\916868080.py:18: ComplexWarning: Casting complex values to real discards the imaginary part\n",
      "  H[0,1] = Omega[i]/2\n",
      "C:\\Users\\ASUS\\AppData\\Local\\Temp\\ipykernel_1848\\916868080.py:19: ComplexWarning: Casting complex values to real discards the imaginary part\n",
      "  H[1,0] = Omega[i].conj()/2\n",
      "C:\\Users\\ASUS\\AppData\\Local\\Temp\\ipykernel_1848\\916868080.py:20: ComplexWarning: Casting complex values to real discards the imaginary part\n",
      "  H[2,3] = Omega[i]/sqrt2\n",
      "C:\\Users\\ASUS\\AppData\\Local\\Temp\\ipykernel_1848\\916868080.py:21: ComplexWarning: Casting complex values to real discards the imaginary part\n",
      "  H[3,2] = Omega[i].conj()/sqrt2\n",
      "c:\\Users\\ASUS\\anaconda3\\envs\\qec\\lib\\site-packages\\scipy\\optimize\\_minimize.py:708: OptimizeWarning: Desired error not necessarily achieved due to precision loss.\n",
      "  res = _minimize_bfgs(fun, x0, args, jac, callback, **options)\n",
      "C:\\Users\\ASUS\\AppData\\Local\\Temp\\ipykernel_1848\\916868080.py:18: ComplexWarning: Casting complex values to real discards the imaginary part\n",
      "  H[0,1] = Omega[i]/2\n",
      "C:\\Users\\ASUS\\AppData\\Local\\Temp\\ipykernel_1848\\916868080.py:19: ComplexWarning: Casting complex values to real discards the imaginary part\n",
      "  H[1,0] = Omega[i].conj()/2\n",
      "C:\\Users\\ASUS\\AppData\\Local\\Temp\\ipykernel_1848\\916868080.py:20: ComplexWarning: Casting complex values to real discards the imaginary part\n",
      "  H[2,3] = Omega[i]/sqrt2\n",
      "C:\\Users\\ASUS\\AppData\\Local\\Temp\\ipykernel_1848\\916868080.py:21: ComplexWarning: Casting complex values to real discards the imaginary part\n",
      "  H[3,2] = Omega[i].conj()/sqrt2\n"
     ]
    },
    {
     "name": "stdout",
     "output_type": "stream",
     "text": [
      "         Current function value: 0.319435\n",
      "         Iterations: 2\n",
      "         Function evaluations: 3111\n",
      "         Gradient evaluations: 31\n",
      "progress: 19/100\n"
     ]
    },
    {
     "name": "stderr",
     "output_type": "stream",
     "text": [
      "C:\\Users\\ASUS\\AppData\\Local\\Temp\\ipykernel_1848\\916868080.py:18: ComplexWarning: Casting complex values to real discards the imaginary part\n",
      "  H[0,1] = Omega[i]/2\n",
      "C:\\Users\\ASUS\\AppData\\Local\\Temp\\ipykernel_1848\\916868080.py:19: ComplexWarning: Casting complex values to real discards the imaginary part\n",
      "  H[1,0] = Omega[i].conj()/2\n",
      "C:\\Users\\ASUS\\AppData\\Local\\Temp\\ipykernel_1848\\916868080.py:20: ComplexWarning: Casting complex values to real discards the imaginary part\n",
      "  H[2,3] = Omega[i]/sqrt2\n",
      "C:\\Users\\ASUS\\AppData\\Local\\Temp\\ipykernel_1848\\916868080.py:21: ComplexWarning: Casting complex values to real discards the imaginary part\n",
      "  H[3,2] = Omega[i].conj()/sqrt2\n",
      "c:\\Users\\ASUS\\anaconda3\\envs\\qec\\lib\\site-packages\\scipy\\optimize\\_minimize.py:708: OptimizeWarning: Desired error not necessarily achieved due to precision loss.\n",
      "  res = _minimize_bfgs(fun, x0, args, jac, callback, **options)\n",
      "C:\\Users\\ASUS\\AppData\\Local\\Temp\\ipykernel_1848\\916868080.py:18: ComplexWarning: Casting complex values to real discards the imaginary part\n",
      "  H[0,1] = Omega[i]/2\n",
      "C:\\Users\\ASUS\\AppData\\Local\\Temp\\ipykernel_1848\\916868080.py:19: ComplexWarning: Casting complex values to real discards the imaginary part\n",
      "  H[1,0] = Omega[i].conj()/2\n",
      "C:\\Users\\ASUS\\AppData\\Local\\Temp\\ipykernel_1848\\916868080.py:20: ComplexWarning: Casting complex values to real discards the imaginary part\n",
      "  H[2,3] = Omega[i]/sqrt2\n",
      "C:\\Users\\ASUS\\AppData\\Local\\Temp\\ipykernel_1848\\916868080.py:21: ComplexWarning: Casting complex values to real discards the imaginary part\n",
      "  H[3,2] = Omega[i].conj()/sqrt2\n"
     ]
    },
    {
     "name": "stdout",
     "output_type": "stream",
     "text": [
      "         Current function value: 0.600220\n",
      "         Iterations: 3\n",
      "         Function evaluations: 5812\n",
      "         Gradient evaluations: 58\n",
      "progress: 20/100\n"
     ]
    },
    {
     "name": "stderr",
     "output_type": "stream",
     "text": [
      "C:\\Users\\ASUS\\AppData\\Local\\Temp\\ipykernel_1848\\916868080.py:18: ComplexWarning: Casting complex values to real discards the imaginary part\n",
      "  H[0,1] = Omega[i]/2\n",
      "C:\\Users\\ASUS\\AppData\\Local\\Temp\\ipykernel_1848\\916868080.py:19: ComplexWarning: Casting complex values to real discards the imaginary part\n",
      "  H[1,0] = Omega[i].conj()/2\n",
      "C:\\Users\\ASUS\\AppData\\Local\\Temp\\ipykernel_1848\\916868080.py:20: ComplexWarning: Casting complex values to real discards the imaginary part\n",
      "  H[2,3] = Omega[i]/sqrt2\n",
      "C:\\Users\\ASUS\\AppData\\Local\\Temp\\ipykernel_1848\\916868080.py:21: ComplexWarning: Casting complex values to real discards the imaginary part\n",
      "  H[3,2] = Omega[i].conj()/sqrt2\n",
      "c:\\Users\\ASUS\\anaconda3\\envs\\qec\\lib\\site-packages\\scipy\\optimize\\_minimize.py:708: OptimizeWarning: Desired error not necessarily achieved due to precision loss.\n",
      "  res = _minimize_bfgs(fun, x0, args, jac, callback, **options)\n",
      "C:\\Users\\ASUS\\AppData\\Local\\Temp\\ipykernel_1848\\916868080.py:18: ComplexWarning: Casting complex values to real discards the imaginary part\n",
      "  H[0,1] = Omega[i]/2\n",
      "C:\\Users\\ASUS\\AppData\\Local\\Temp\\ipykernel_1848\\916868080.py:19: ComplexWarning: Casting complex values to real discards the imaginary part\n",
      "  H[1,0] = Omega[i].conj()/2\n",
      "C:\\Users\\ASUS\\AppData\\Local\\Temp\\ipykernel_1848\\916868080.py:20: ComplexWarning: Casting complex values to real discards the imaginary part\n",
      "  H[2,3] = Omega[i]/sqrt2\n",
      "C:\\Users\\ASUS\\AppData\\Local\\Temp\\ipykernel_1848\\916868080.py:21: ComplexWarning: Casting complex values to real discards the imaginary part\n",
      "  H[3,2] = Omega[i].conj()/sqrt2\n"
     ]
    },
    {
     "name": "stdout",
     "output_type": "stream",
     "text": [
      "         Current function value: 0.445772\n",
      "         Iterations: 3\n",
      "         Function evaluations: 3910\n",
      "         Gradient evaluations: 39\n",
      "progress: 21/100\n"
     ]
    },
    {
     "name": "stderr",
     "output_type": "stream",
     "text": [
      "C:\\Users\\ASUS\\AppData\\Local\\Temp\\ipykernel_1848\\916868080.py:18: ComplexWarning: Casting complex values to real discards the imaginary part\n",
      "  H[0,1] = Omega[i]/2\n",
      "C:\\Users\\ASUS\\AppData\\Local\\Temp\\ipykernel_1848\\916868080.py:19: ComplexWarning: Casting complex values to real discards the imaginary part\n",
      "  H[1,0] = Omega[i].conj()/2\n",
      "C:\\Users\\ASUS\\AppData\\Local\\Temp\\ipykernel_1848\\916868080.py:20: ComplexWarning: Casting complex values to real discards the imaginary part\n",
      "  H[2,3] = Omega[i]/sqrt2\n",
      "C:\\Users\\ASUS\\AppData\\Local\\Temp\\ipykernel_1848\\916868080.py:21: ComplexWarning: Casting complex values to real discards the imaginary part\n",
      "  H[3,2] = Omega[i].conj()/sqrt2\n",
      "c:\\Users\\ASUS\\anaconda3\\envs\\qec\\lib\\site-packages\\scipy\\optimize\\_minimize.py:708: OptimizeWarning: Desired error not necessarily achieved due to precision loss.\n",
      "  res = _minimize_bfgs(fun, x0, args, jac, callback, **options)\n",
      "C:\\Users\\ASUS\\AppData\\Local\\Temp\\ipykernel_1848\\916868080.py:18: ComplexWarning: Casting complex values to real discards the imaginary part\n",
      "  H[0,1] = Omega[i]/2\n",
      "C:\\Users\\ASUS\\AppData\\Local\\Temp\\ipykernel_1848\\916868080.py:19: ComplexWarning: Casting complex values to real discards the imaginary part\n",
      "  H[1,0] = Omega[i].conj()/2\n",
      "C:\\Users\\ASUS\\AppData\\Local\\Temp\\ipykernel_1848\\916868080.py:20: ComplexWarning: Casting complex values to real discards the imaginary part\n",
      "  H[2,3] = Omega[i]/sqrt2\n",
      "C:\\Users\\ASUS\\AppData\\Local\\Temp\\ipykernel_1848\\916868080.py:21: ComplexWarning: Casting complex values to real discards the imaginary part\n",
      "  H[3,2] = Omega[i].conj()/sqrt2\n"
     ]
    },
    {
     "name": "stdout",
     "output_type": "stream",
     "text": [
      "         Current function value: 0.115620\n",
      "         Iterations: 5\n",
      "         Function evaluations: 3012\n",
      "         Gradient evaluations: 30\n",
      "progress: 22/100\n"
     ]
    },
    {
     "name": "stderr",
     "output_type": "stream",
     "text": [
      "C:\\Users\\ASUS\\AppData\\Local\\Temp\\ipykernel_1848\\916868080.py:18: ComplexWarning: Casting complex values to real discards the imaginary part\n",
      "  H[0,1] = Omega[i]/2\n",
      "C:\\Users\\ASUS\\AppData\\Local\\Temp\\ipykernel_1848\\916868080.py:19: ComplexWarning: Casting complex values to real discards the imaginary part\n",
      "  H[1,0] = Omega[i].conj()/2\n",
      "C:\\Users\\ASUS\\AppData\\Local\\Temp\\ipykernel_1848\\916868080.py:20: ComplexWarning: Casting complex values to real discards the imaginary part\n",
      "  H[2,3] = Omega[i]/sqrt2\n",
      "C:\\Users\\ASUS\\AppData\\Local\\Temp\\ipykernel_1848\\916868080.py:21: ComplexWarning: Casting complex values to real discards the imaginary part\n",
      "  H[3,2] = Omega[i].conj()/sqrt2\n",
      "c:\\Users\\ASUS\\anaconda3\\envs\\qec\\lib\\site-packages\\scipy\\optimize\\_minimize.py:708: OptimizeWarning: Desired error not necessarily achieved due to precision loss.\n",
      "  res = _minimize_bfgs(fun, x0, args, jac, callback, **options)\n",
      "C:\\Users\\ASUS\\AppData\\Local\\Temp\\ipykernel_1848\\916868080.py:18: ComplexWarning: Casting complex values to real discards the imaginary part\n",
      "  H[0,1] = Omega[i]/2\n",
      "C:\\Users\\ASUS\\AppData\\Local\\Temp\\ipykernel_1848\\916868080.py:19: ComplexWarning: Casting complex values to real discards the imaginary part\n",
      "  H[1,0] = Omega[i].conj()/2\n",
      "C:\\Users\\ASUS\\AppData\\Local\\Temp\\ipykernel_1848\\916868080.py:20: ComplexWarning: Casting complex values to real discards the imaginary part\n",
      "  H[2,3] = Omega[i]/sqrt2\n",
      "C:\\Users\\ASUS\\AppData\\Local\\Temp\\ipykernel_1848\\916868080.py:21: ComplexWarning: Casting complex values to real discards the imaginary part\n",
      "  H[3,2] = Omega[i].conj()/sqrt2\n"
     ]
    },
    {
     "name": "stdout",
     "output_type": "stream",
     "text": [
      "         Current function value: 0.092536\n",
      "         Iterations: 4\n",
      "         Function evaluations: 4811\n",
      "         Gradient evaluations: 48\n",
      "progress: 23/100\n"
     ]
    },
    {
     "name": "stderr",
     "output_type": "stream",
     "text": [
      "C:\\Users\\ASUS\\AppData\\Local\\Temp\\ipykernel_1848\\916868080.py:18: ComplexWarning: Casting complex values to real discards the imaginary part\n",
      "  H[0,1] = Omega[i]/2\n",
      "C:\\Users\\ASUS\\AppData\\Local\\Temp\\ipykernel_1848\\916868080.py:19: ComplexWarning: Casting complex values to real discards the imaginary part\n",
      "  H[1,0] = Omega[i].conj()/2\n",
      "C:\\Users\\ASUS\\AppData\\Local\\Temp\\ipykernel_1848\\916868080.py:20: ComplexWarning: Casting complex values to real discards the imaginary part\n",
      "  H[2,3] = Omega[i]/sqrt2\n",
      "C:\\Users\\ASUS\\AppData\\Local\\Temp\\ipykernel_1848\\916868080.py:21: ComplexWarning: Casting complex values to real discards the imaginary part\n",
      "  H[3,2] = Omega[i].conj()/sqrt2\n",
      "c:\\Users\\ASUS\\anaconda3\\envs\\qec\\lib\\site-packages\\scipy\\optimize\\_minimize.py:708: OptimizeWarning: Desired error not necessarily achieved due to precision loss.\n",
      "  res = _minimize_bfgs(fun, x0, args, jac, callback, **options)\n",
      "C:\\Users\\ASUS\\AppData\\Local\\Temp\\ipykernel_1848\\916868080.py:18: ComplexWarning: Casting complex values to real discards the imaginary part\n",
      "  H[0,1] = Omega[i]/2\n",
      "C:\\Users\\ASUS\\AppData\\Local\\Temp\\ipykernel_1848\\916868080.py:19: ComplexWarning: Casting complex values to real discards the imaginary part\n",
      "  H[1,0] = Omega[i].conj()/2\n",
      "C:\\Users\\ASUS\\AppData\\Local\\Temp\\ipykernel_1848\\916868080.py:20: ComplexWarning: Casting complex values to real discards the imaginary part\n",
      "  H[2,3] = Omega[i]/sqrt2\n",
      "C:\\Users\\ASUS\\AppData\\Local\\Temp\\ipykernel_1848\\916868080.py:21: ComplexWarning: Casting complex values to real discards the imaginary part\n",
      "  H[3,2] = Omega[i].conj()/sqrt2\n"
     ]
    },
    {
     "name": "stdout",
     "output_type": "stream",
     "text": [
      "         Current function value: 0.000105\n",
      "         Iterations: 3\n",
      "         Function evaluations: 5212\n",
      "         Gradient evaluations: 52\n",
      "progress: 24/100\n"
     ]
    },
    {
     "name": "stderr",
     "output_type": "stream",
     "text": [
      "C:\\Users\\ASUS\\AppData\\Local\\Temp\\ipykernel_1848\\916868080.py:18: ComplexWarning: Casting complex values to real discards the imaginary part\n",
      "  H[0,1] = Omega[i]/2\n",
      "C:\\Users\\ASUS\\AppData\\Local\\Temp\\ipykernel_1848\\916868080.py:19: ComplexWarning: Casting complex values to real discards the imaginary part\n",
      "  H[1,0] = Omega[i].conj()/2\n",
      "C:\\Users\\ASUS\\AppData\\Local\\Temp\\ipykernel_1848\\916868080.py:20: ComplexWarning: Casting complex values to real discards the imaginary part\n",
      "  H[2,3] = Omega[i]/sqrt2\n",
      "C:\\Users\\ASUS\\AppData\\Local\\Temp\\ipykernel_1848\\916868080.py:21: ComplexWarning: Casting complex values to real discards the imaginary part\n",
      "  H[3,2] = Omega[i].conj()/sqrt2\n",
      "c:\\Users\\ASUS\\anaconda3\\envs\\qec\\lib\\site-packages\\scipy\\optimize\\_minimize.py:708: OptimizeWarning: Desired error not necessarily achieved due to precision loss.\n",
      "  res = _minimize_bfgs(fun, x0, args, jac, callback, **options)\n",
      "C:\\Users\\ASUS\\AppData\\Local\\Temp\\ipykernel_1848\\916868080.py:18: ComplexWarning: Casting complex values to real discards the imaginary part\n",
      "  H[0,1] = Omega[i]/2\n",
      "C:\\Users\\ASUS\\AppData\\Local\\Temp\\ipykernel_1848\\916868080.py:19: ComplexWarning: Casting complex values to real discards the imaginary part\n",
      "  H[1,0] = Omega[i].conj()/2\n",
      "C:\\Users\\ASUS\\AppData\\Local\\Temp\\ipykernel_1848\\916868080.py:20: ComplexWarning: Casting complex values to real discards the imaginary part\n",
      "  H[2,3] = Omega[i]/sqrt2\n",
      "C:\\Users\\ASUS\\AppData\\Local\\Temp\\ipykernel_1848\\916868080.py:21: ComplexWarning: Casting complex values to real discards the imaginary part\n",
      "  H[3,2] = Omega[i].conj()/sqrt2\n"
     ]
    },
    {
     "name": "stdout",
     "output_type": "stream",
     "text": [
      "         Current function value: 0.115620\n",
      "         Iterations: 2\n",
      "         Function evaluations: 3512\n",
      "         Gradient evaluations: 35\n",
      "progress: 25/100\n"
     ]
    },
    {
     "name": "stderr",
     "output_type": "stream",
     "text": [
      "C:\\Users\\ASUS\\AppData\\Local\\Temp\\ipykernel_1848\\916868080.py:18: ComplexWarning: Casting complex values to real discards the imaginary part\n",
      "  H[0,1] = Omega[i]/2\n",
      "C:\\Users\\ASUS\\AppData\\Local\\Temp\\ipykernel_1848\\916868080.py:19: ComplexWarning: Casting complex values to real discards the imaginary part\n",
      "  H[1,0] = Omega[i].conj()/2\n",
      "C:\\Users\\ASUS\\AppData\\Local\\Temp\\ipykernel_1848\\916868080.py:20: ComplexWarning: Casting complex values to real discards the imaginary part\n",
      "  H[2,3] = Omega[i]/sqrt2\n",
      "C:\\Users\\ASUS\\AppData\\Local\\Temp\\ipykernel_1848\\916868080.py:21: ComplexWarning: Casting complex values to real discards the imaginary part\n",
      "  H[3,2] = Omega[i].conj()/sqrt2\n",
      "c:\\Users\\ASUS\\anaconda3\\envs\\qec\\lib\\site-packages\\scipy\\optimize\\_minimize.py:708: OptimizeWarning: Desired error not necessarily achieved due to precision loss.\n",
      "  res = _minimize_bfgs(fun, x0, args, jac, callback, **options)\n",
      "C:\\Users\\ASUS\\AppData\\Local\\Temp\\ipykernel_1848\\916868080.py:18: ComplexWarning: Casting complex values to real discards the imaginary part\n",
      "  H[0,1] = Omega[i]/2\n",
      "C:\\Users\\ASUS\\AppData\\Local\\Temp\\ipykernel_1848\\916868080.py:19: ComplexWarning: Casting complex values to real discards the imaginary part\n",
      "  H[1,0] = Omega[i].conj()/2\n",
      "C:\\Users\\ASUS\\AppData\\Local\\Temp\\ipykernel_1848\\916868080.py:20: ComplexWarning: Casting complex values to real discards the imaginary part\n",
      "  H[2,3] = Omega[i]/sqrt2\n",
      "C:\\Users\\ASUS\\AppData\\Local\\Temp\\ipykernel_1848\\916868080.py:21: ComplexWarning: Casting complex values to real discards the imaginary part\n",
      "  H[3,2] = Omega[i].conj()/sqrt2\n"
     ]
    },
    {
     "name": "stdout",
     "output_type": "stream",
     "text": [
      "         Current function value: 0.163166\n",
      "         Iterations: 2\n",
      "         Function evaluations: 4111\n",
      "         Gradient evaluations: 41\n",
      "progress: 26/100\n"
     ]
    },
    {
     "name": "stderr",
     "output_type": "stream",
     "text": [
      "C:\\Users\\ASUS\\AppData\\Local\\Temp\\ipykernel_1848\\916868080.py:18: ComplexWarning: Casting complex values to real discards the imaginary part\n",
      "  H[0,1] = Omega[i]/2\n",
      "C:\\Users\\ASUS\\AppData\\Local\\Temp\\ipykernel_1848\\916868080.py:19: ComplexWarning: Casting complex values to real discards the imaginary part\n",
      "  H[1,0] = Omega[i].conj()/2\n",
      "C:\\Users\\ASUS\\AppData\\Local\\Temp\\ipykernel_1848\\916868080.py:20: ComplexWarning: Casting complex values to real discards the imaginary part\n",
      "  H[2,3] = Omega[i]/sqrt2\n",
      "C:\\Users\\ASUS\\AppData\\Local\\Temp\\ipykernel_1848\\916868080.py:21: ComplexWarning: Casting complex values to real discards the imaginary part\n",
      "  H[3,2] = Omega[i].conj()/sqrt2\n",
      "c:\\Users\\ASUS\\anaconda3\\envs\\qec\\lib\\site-packages\\scipy\\optimize\\_minimize.py:708: OptimizeWarning: Desired error not necessarily achieved due to precision loss.\n",
      "  res = _minimize_bfgs(fun, x0, args, jac, callback, **options)\n",
      "C:\\Users\\ASUS\\AppData\\Local\\Temp\\ipykernel_1848\\916868080.py:18: ComplexWarning: Casting complex values to real discards the imaginary part\n",
      "  H[0,1] = Omega[i]/2\n",
      "C:\\Users\\ASUS\\AppData\\Local\\Temp\\ipykernel_1848\\916868080.py:19: ComplexWarning: Casting complex values to real discards the imaginary part\n",
      "  H[1,0] = Omega[i].conj()/2\n",
      "C:\\Users\\ASUS\\AppData\\Local\\Temp\\ipykernel_1848\\916868080.py:20: ComplexWarning: Casting complex values to real discards the imaginary part\n",
      "  H[2,3] = Omega[i]/sqrt2\n",
      "C:\\Users\\ASUS\\AppData\\Local\\Temp\\ipykernel_1848\\916868080.py:21: ComplexWarning: Casting complex values to real discards the imaginary part\n",
      "  H[3,2] = Omega[i].conj()/sqrt2\n"
     ]
    },
    {
     "name": "stdout",
     "output_type": "stream",
     "text": [
      "         Current function value: 0.449829\n",
      "         Iterations: 3\n",
      "         Function evaluations: 4112\n",
      "         Gradient evaluations: 41\n",
      "progress: 27/100\n"
     ]
    },
    {
     "name": "stderr",
     "output_type": "stream",
     "text": [
      "C:\\Users\\ASUS\\AppData\\Local\\Temp\\ipykernel_1848\\916868080.py:18: ComplexWarning: Casting complex values to real discards the imaginary part\n",
      "  H[0,1] = Omega[i]/2\n",
      "C:\\Users\\ASUS\\AppData\\Local\\Temp\\ipykernel_1848\\916868080.py:19: ComplexWarning: Casting complex values to real discards the imaginary part\n",
      "  H[1,0] = Omega[i].conj()/2\n",
      "C:\\Users\\ASUS\\AppData\\Local\\Temp\\ipykernel_1848\\916868080.py:20: ComplexWarning: Casting complex values to real discards the imaginary part\n",
      "  H[2,3] = Omega[i]/sqrt2\n",
      "C:\\Users\\ASUS\\AppData\\Local\\Temp\\ipykernel_1848\\916868080.py:21: ComplexWarning: Casting complex values to real discards the imaginary part\n",
      "  H[3,2] = Omega[i].conj()/sqrt2\n",
      "c:\\Users\\ASUS\\anaconda3\\envs\\qec\\lib\\site-packages\\scipy\\optimize\\_minimize.py:708: OptimizeWarning: Desired error not necessarily achieved due to precision loss.\n",
      "  res = _minimize_bfgs(fun, x0, args, jac, callback, **options)\n",
      "C:\\Users\\ASUS\\AppData\\Local\\Temp\\ipykernel_1848\\916868080.py:18: ComplexWarning: Casting complex values to real discards the imaginary part\n",
      "  H[0,1] = Omega[i]/2\n",
      "C:\\Users\\ASUS\\AppData\\Local\\Temp\\ipykernel_1848\\916868080.py:19: ComplexWarning: Casting complex values to real discards the imaginary part\n",
      "  H[1,0] = Omega[i].conj()/2\n",
      "C:\\Users\\ASUS\\AppData\\Local\\Temp\\ipykernel_1848\\916868080.py:20: ComplexWarning: Casting complex values to real discards the imaginary part\n",
      "  H[2,3] = Omega[i]/sqrt2\n",
      "C:\\Users\\ASUS\\AppData\\Local\\Temp\\ipykernel_1848\\916868080.py:21: ComplexWarning: Casting complex values to real discards the imaginary part\n",
      "  H[3,2] = Omega[i].conj()/sqrt2\n"
     ]
    },
    {
     "name": "stdout",
     "output_type": "stream",
     "text": [
      "         Current function value: 0.541278\n",
      "         Iterations: 6\n",
      "         Function evaluations: 3712\n",
      "         Gradient evaluations: 37\n",
      "progress: 28/100\n"
     ]
    },
    {
     "name": "stderr",
     "output_type": "stream",
     "text": [
      "C:\\Users\\ASUS\\AppData\\Local\\Temp\\ipykernel_1848\\916868080.py:18: ComplexWarning: Casting complex values to real discards the imaginary part\n",
      "  H[0,1] = Omega[i]/2\n",
      "C:\\Users\\ASUS\\AppData\\Local\\Temp\\ipykernel_1848\\916868080.py:19: ComplexWarning: Casting complex values to real discards the imaginary part\n",
      "  H[1,0] = Omega[i].conj()/2\n",
      "C:\\Users\\ASUS\\AppData\\Local\\Temp\\ipykernel_1848\\916868080.py:20: ComplexWarning: Casting complex values to real discards the imaginary part\n",
      "  H[2,3] = Omega[i]/sqrt2\n",
      "C:\\Users\\ASUS\\AppData\\Local\\Temp\\ipykernel_1848\\916868080.py:21: ComplexWarning: Casting complex values to real discards the imaginary part\n",
      "  H[3,2] = Omega[i].conj()/sqrt2\n",
      "c:\\Users\\ASUS\\anaconda3\\envs\\qec\\lib\\site-packages\\scipy\\optimize\\_minimize.py:708: OptimizeWarning: Desired error not necessarily achieved due to precision loss.\n",
      "  res = _minimize_bfgs(fun, x0, args, jac, callback, **options)\n",
      "C:\\Users\\ASUS\\AppData\\Local\\Temp\\ipykernel_1848\\916868080.py:18: ComplexWarning: Casting complex values to real discards the imaginary part\n",
      "  H[0,1] = Omega[i]/2\n",
      "C:\\Users\\ASUS\\AppData\\Local\\Temp\\ipykernel_1848\\916868080.py:19: ComplexWarning: Casting complex values to real discards the imaginary part\n",
      "  H[1,0] = Omega[i].conj()/2\n",
      "C:\\Users\\ASUS\\AppData\\Local\\Temp\\ipykernel_1848\\916868080.py:20: ComplexWarning: Casting complex values to real discards the imaginary part\n",
      "  H[2,3] = Omega[i]/sqrt2\n",
      "C:\\Users\\ASUS\\AppData\\Local\\Temp\\ipykernel_1848\\916868080.py:21: ComplexWarning: Casting complex values to real discards the imaginary part\n",
      "  H[3,2] = Omega[i].conj()/sqrt2\n"
     ]
    },
    {
     "name": "stdout",
     "output_type": "stream",
     "text": [
      "         Current function value: 0.272375\n",
      "         Iterations: 5\n",
      "         Function evaluations: 6512\n",
      "         Gradient evaluations: 65\n",
      "progress: 29/100\n"
     ]
    },
    {
     "name": "stderr",
     "output_type": "stream",
     "text": [
      "C:\\Users\\ASUS\\AppData\\Local\\Temp\\ipykernel_1848\\916868080.py:18: ComplexWarning: Casting complex values to real discards the imaginary part\n",
      "  H[0,1] = Omega[i]/2\n",
      "C:\\Users\\ASUS\\AppData\\Local\\Temp\\ipykernel_1848\\916868080.py:19: ComplexWarning: Casting complex values to real discards the imaginary part\n",
      "  H[1,0] = Omega[i].conj()/2\n",
      "C:\\Users\\ASUS\\AppData\\Local\\Temp\\ipykernel_1848\\916868080.py:20: ComplexWarning: Casting complex values to real discards the imaginary part\n",
      "  H[2,3] = Omega[i]/sqrt2\n",
      "C:\\Users\\ASUS\\AppData\\Local\\Temp\\ipykernel_1848\\916868080.py:21: ComplexWarning: Casting complex values to real discards the imaginary part\n",
      "  H[3,2] = Omega[i].conj()/sqrt2\n",
      "c:\\Users\\ASUS\\anaconda3\\envs\\qec\\lib\\site-packages\\scipy\\optimize\\_minimize.py:708: OptimizeWarning: Desired error not necessarily achieved due to precision loss.\n",
      "  res = _minimize_bfgs(fun, x0, args, jac, callback, **options)\n",
      "C:\\Users\\ASUS\\AppData\\Local\\Temp\\ipykernel_1848\\916868080.py:18: ComplexWarning: Casting complex values to real discards the imaginary part\n",
      "  H[0,1] = Omega[i]/2\n",
      "C:\\Users\\ASUS\\AppData\\Local\\Temp\\ipykernel_1848\\916868080.py:19: ComplexWarning: Casting complex values to real discards the imaginary part\n",
      "  H[1,0] = Omega[i].conj()/2\n",
      "C:\\Users\\ASUS\\AppData\\Local\\Temp\\ipykernel_1848\\916868080.py:20: ComplexWarning: Casting complex values to real discards the imaginary part\n",
      "  H[2,3] = Omega[i]/sqrt2\n",
      "C:\\Users\\ASUS\\AppData\\Local\\Temp\\ipykernel_1848\\916868080.py:21: ComplexWarning: Casting complex values to real discards the imaginary part\n",
      "  H[3,2] = Omega[i].conj()/sqrt2\n"
     ]
    },
    {
     "name": "stdout",
     "output_type": "stream",
     "text": [
      "         Current function value: 0.030150\n",
      "         Iterations: 3\n",
      "         Function evaluations: 3311\n",
      "         Gradient evaluations: 33\n",
      "progress: 30/100\n"
     ]
    },
    {
     "name": "stderr",
     "output_type": "stream",
     "text": [
      "C:\\Users\\ASUS\\AppData\\Local\\Temp\\ipykernel_1848\\916868080.py:18: ComplexWarning: Casting complex values to real discards the imaginary part\n",
      "  H[0,1] = Omega[i]/2\n",
      "C:\\Users\\ASUS\\AppData\\Local\\Temp\\ipykernel_1848\\916868080.py:19: ComplexWarning: Casting complex values to real discards the imaginary part\n",
      "  H[1,0] = Omega[i].conj()/2\n",
      "C:\\Users\\ASUS\\AppData\\Local\\Temp\\ipykernel_1848\\916868080.py:20: ComplexWarning: Casting complex values to real discards the imaginary part\n",
      "  H[2,3] = Omega[i]/sqrt2\n",
      "C:\\Users\\ASUS\\AppData\\Local\\Temp\\ipykernel_1848\\916868080.py:21: ComplexWarning: Casting complex values to real discards the imaginary part\n",
      "  H[3,2] = Omega[i].conj()/sqrt2\n",
      "c:\\Users\\ASUS\\anaconda3\\envs\\qec\\lib\\site-packages\\scipy\\optimize\\_minimize.py:708: OptimizeWarning: Desired error not necessarily achieved due to precision loss.\n",
      "  res = _minimize_bfgs(fun, x0, args, jac, callback, **options)\n",
      "C:\\Users\\ASUS\\AppData\\Local\\Temp\\ipykernel_1848\\916868080.py:18: ComplexWarning: Casting complex values to real discards the imaginary part\n",
      "  H[0,1] = Omega[i]/2\n",
      "C:\\Users\\ASUS\\AppData\\Local\\Temp\\ipykernel_1848\\916868080.py:19: ComplexWarning: Casting complex values to real discards the imaginary part\n",
      "  H[1,0] = Omega[i].conj()/2\n",
      "C:\\Users\\ASUS\\AppData\\Local\\Temp\\ipykernel_1848\\916868080.py:20: ComplexWarning: Casting complex values to real discards the imaginary part\n",
      "  H[2,3] = Omega[i]/sqrt2\n",
      "C:\\Users\\ASUS\\AppData\\Local\\Temp\\ipykernel_1848\\916868080.py:21: ComplexWarning: Casting complex values to real discards the imaginary part\n",
      "  H[3,2] = Omega[i].conj()/sqrt2\n"
     ]
    },
    {
     "name": "stdout",
     "output_type": "stream",
     "text": [
      "         Current function value: 0.343442\n",
      "         Iterations: 3\n",
      "         Function evaluations: 4311\n",
      "         Gradient evaluations: 43\n",
      "progress: 31/100\n"
     ]
    },
    {
     "name": "stderr",
     "output_type": "stream",
     "text": [
      "C:\\Users\\ASUS\\AppData\\Local\\Temp\\ipykernel_1848\\916868080.py:18: ComplexWarning: Casting complex values to real discards the imaginary part\n",
      "  H[0,1] = Omega[i]/2\n",
      "C:\\Users\\ASUS\\AppData\\Local\\Temp\\ipykernel_1848\\916868080.py:19: ComplexWarning: Casting complex values to real discards the imaginary part\n",
      "  H[1,0] = Omega[i].conj()/2\n",
      "C:\\Users\\ASUS\\AppData\\Local\\Temp\\ipykernel_1848\\916868080.py:20: ComplexWarning: Casting complex values to real discards the imaginary part\n",
      "  H[2,3] = Omega[i]/sqrt2\n",
      "C:\\Users\\ASUS\\AppData\\Local\\Temp\\ipykernel_1848\\916868080.py:21: ComplexWarning: Casting complex values to real discards the imaginary part\n",
      "  H[3,2] = Omega[i].conj()/sqrt2\n",
      "c:\\Users\\ASUS\\anaconda3\\envs\\qec\\lib\\site-packages\\scipy\\optimize\\_minimize.py:708: OptimizeWarning: Desired error not necessarily achieved due to precision loss.\n",
      "  res = _minimize_bfgs(fun, x0, args, jac, callback, **options)\n",
      "C:\\Users\\ASUS\\AppData\\Local\\Temp\\ipykernel_1848\\916868080.py:18: ComplexWarning: Casting complex values to real discards the imaginary part\n",
      "  H[0,1] = Omega[i]/2\n",
      "C:\\Users\\ASUS\\AppData\\Local\\Temp\\ipykernel_1848\\916868080.py:19: ComplexWarning: Casting complex values to real discards the imaginary part\n",
      "  H[1,0] = Omega[i].conj()/2\n",
      "C:\\Users\\ASUS\\AppData\\Local\\Temp\\ipykernel_1848\\916868080.py:20: ComplexWarning: Casting complex values to real discards the imaginary part\n",
      "  H[2,3] = Omega[i]/sqrt2\n",
      "C:\\Users\\ASUS\\AppData\\Local\\Temp\\ipykernel_1848\\916868080.py:21: ComplexWarning: Casting complex values to real discards the imaginary part\n",
      "  H[3,2] = Omega[i].conj()/sqrt2\n"
     ]
    },
    {
     "name": "stdout",
     "output_type": "stream",
     "text": [
      "         Current function value: 0.582645\n",
      "         Iterations: 2\n",
      "         Function evaluations: 4610\n",
      "         Gradient evaluations: 46\n",
      "progress: 32/100\n"
     ]
    },
    {
     "name": "stderr",
     "output_type": "stream",
     "text": [
      "C:\\Users\\ASUS\\AppData\\Local\\Temp\\ipykernel_1848\\916868080.py:18: ComplexWarning: Casting complex values to real discards the imaginary part\n",
      "  H[0,1] = Omega[i]/2\n",
      "C:\\Users\\ASUS\\AppData\\Local\\Temp\\ipykernel_1848\\916868080.py:19: ComplexWarning: Casting complex values to real discards the imaginary part\n",
      "  H[1,0] = Omega[i].conj()/2\n",
      "C:\\Users\\ASUS\\AppData\\Local\\Temp\\ipykernel_1848\\916868080.py:20: ComplexWarning: Casting complex values to real discards the imaginary part\n",
      "  H[2,3] = Omega[i]/sqrt2\n",
      "C:\\Users\\ASUS\\AppData\\Local\\Temp\\ipykernel_1848\\916868080.py:21: ComplexWarning: Casting complex values to real discards the imaginary part\n",
      "  H[3,2] = Omega[i].conj()/sqrt2\n",
      "c:\\Users\\ASUS\\anaconda3\\envs\\qec\\lib\\site-packages\\scipy\\optimize\\_minimize.py:708: OptimizeWarning: Desired error not necessarily achieved due to precision loss.\n",
      "  res = _minimize_bfgs(fun, x0, args, jac, callback, **options)\n",
      "C:\\Users\\ASUS\\AppData\\Local\\Temp\\ipykernel_1848\\916868080.py:18: ComplexWarning: Casting complex values to real discards the imaginary part\n",
      "  H[0,1] = Omega[i]/2\n",
      "C:\\Users\\ASUS\\AppData\\Local\\Temp\\ipykernel_1848\\916868080.py:19: ComplexWarning: Casting complex values to real discards the imaginary part\n",
      "  H[1,0] = Omega[i].conj()/2\n",
      "C:\\Users\\ASUS\\AppData\\Local\\Temp\\ipykernel_1848\\916868080.py:20: ComplexWarning: Casting complex values to real discards the imaginary part\n",
      "  H[2,3] = Omega[i]/sqrt2\n",
      "C:\\Users\\ASUS\\AppData\\Local\\Temp\\ipykernel_1848\\916868080.py:21: ComplexWarning: Casting complex values to real discards the imaginary part\n",
      "  H[3,2] = Omega[i].conj()/sqrt2\n"
     ]
    },
    {
     "name": "stdout",
     "output_type": "stream",
     "text": [
      "         Current function value: 0.229433\n",
      "         Iterations: 2\n",
      "         Function evaluations: 3511\n",
      "         Gradient evaluations: 35\n",
      "progress: 33/100\n"
     ]
    },
    {
     "name": "stderr",
     "output_type": "stream",
     "text": [
      "C:\\Users\\ASUS\\AppData\\Local\\Temp\\ipykernel_1848\\916868080.py:18: ComplexWarning: Casting complex values to real discards the imaginary part\n",
      "  H[0,1] = Omega[i]/2\n",
      "C:\\Users\\ASUS\\AppData\\Local\\Temp\\ipykernel_1848\\916868080.py:19: ComplexWarning: Casting complex values to real discards the imaginary part\n",
      "  H[1,0] = Omega[i].conj()/2\n",
      "C:\\Users\\ASUS\\AppData\\Local\\Temp\\ipykernel_1848\\916868080.py:20: ComplexWarning: Casting complex values to real discards the imaginary part\n",
      "  H[2,3] = Omega[i]/sqrt2\n",
      "C:\\Users\\ASUS\\AppData\\Local\\Temp\\ipykernel_1848\\916868080.py:21: ComplexWarning: Casting complex values to real discards the imaginary part\n",
      "  H[3,2] = Omega[i].conj()/sqrt2\n",
      "c:\\Users\\ASUS\\anaconda3\\envs\\qec\\lib\\site-packages\\scipy\\optimize\\_minimize.py:708: OptimizeWarning: Desired error not necessarily achieved due to precision loss.\n",
      "  res = _minimize_bfgs(fun, x0, args, jac, callback, **options)\n",
      "C:\\Users\\ASUS\\AppData\\Local\\Temp\\ipykernel_1848\\916868080.py:18: ComplexWarning: Casting complex values to real discards the imaginary part\n",
      "  H[0,1] = Omega[i]/2\n",
      "C:\\Users\\ASUS\\AppData\\Local\\Temp\\ipykernel_1848\\916868080.py:19: ComplexWarning: Casting complex values to real discards the imaginary part\n",
      "  H[1,0] = Omega[i].conj()/2\n",
      "C:\\Users\\ASUS\\AppData\\Local\\Temp\\ipykernel_1848\\916868080.py:20: ComplexWarning: Casting complex values to real discards the imaginary part\n",
      "  H[2,3] = Omega[i]/sqrt2\n",
      "C:\\Users\\ASUS\\AppData\\Local\\Temp\\ipykernel_1848\\916868080.py:21: ComplexWarning: Casting complex values to real discards the imaginary part\n",
      "  H[3,2] = Omega[i].conj()/sqrt2\n"
     ]
    },
    {
     "name": "stdout",
     "output_type": "stream",
     "text": [
      "         Current function value: 0.809754\n",
      "         Iterations: 4\n",
      "         Function evaluations: 3211\n",
      "         Gradient evaluations: 32\n",
      "progress: 34/100\n"
     ]
    },
    {
     "name": "stderr",
     "output_type": "stream",
     "text": [
      "C:\\Users\\ASUS\\AppData\\Local\\Temp\\ipykernel_1848\\916868080.py:18: ComplexWarning: Casting complex values to real discards the imaginary part\n",
      "  H[0,1] = Omega[i]/2\n",
      "C:\\Users\\ASUS\\AppData\\Local\\Temp\\ipykernel_1848\\916868080.py:19: ComplexWarning: Casting complex values to real discards the imaginary part\n",
      "  H[1,0] = Omega[i].conj()/2\n",
      "C:\\Users\\ASUS\\AppData\\Local\\Temp\\ipykernel_1848\\916868080.py:20: ComplexWarning: Casting complex values to real discards the imaginary part\n",
      "  H[2,3] = Omega[i]/sqrt2\n",
      "C:\\Users\\ASUS\\AppData\\Local\\Temp\\ipykernel_1848\\916868080.py:21: ComplexWarning: Casting complex values to real discards the imaginary part\n",
      "  H[3,2] = Omega[i].conj()/sqrt2\n",
      "c:\\Users\\ASUS\\anaconda3\\envs\\qec\\lib\\site-packages\\scipy\\optimize\\_minimize.py:708: OptimizeWarning: Desired error not necessarily achieved due to precision loss.\n",
      "  res = _minimize_bfgs(fun, x0, args, jac, callback, **options)\n",
      "C:\\Users\\ASUS\\AppData\\Local\\Temp\\ipykernel_1848\\916868080.py:18: ComplexWarning: Casting complex values to real discards the imaginary part\n",
      "  H[0,1] = Omega[i]/2\n",
      "C:\\Users\\ASUS\\AppData\\Local\\Temp\\ipykernel_1848\\916868080.py:19: ComplexWarning: Casting complex values to real discards the imaginary part\n",
      "  H[1,0] = Omega[i].conj()/2\n",
      "C:\\Users\\ASUS\\AppData\\Local\\Temp\\ipykernel_1848\\916868080.py:20: ComplexWarning: Casting complex values to real discards the imaginary part\n",
      "  H[2,3] = Omega[i]/sqrt2\n",
      "C:\\Users\\ASUS\\AppData\\Local\\Temp\\ipykernel_1848\\916868080.py:21: ComplexWarning: Casting complex values to real discards the imaginary part\n",
      "  H[3,2] = Omega[i].conj()/sqrt2\n"
     ]
    },
    {
     "name": "stdout",
     "output_type": "stream",
     "text": [
      "         Current function value: 0.525541\n",
      "         Iterations: 4\n",
      "         Function evaluations: 3411\n",
      "         Gradient evaluations: 34\n",
      "progress: 35/100\n"
     ]
    },
    {
     "name": "stderr",
     "output_type": "stream",
     "text": [
      "C:\\Users\\ASUS\\AppData\\Local\\Temp\\ipykernel_1848\\916868080.py:18: ComplexWarning: Casting complex values to real discards the imaginary part\n",
      "  H[0,1] = Omega[i]/2\n",
      "C:\\Users\\ASUS\\AppData\\Local\\Temp\\ipykernel_1848\\916868080.py:19: ComplexWarning: Casting complex values to real discards the imaginary part\n",
      "  H[1,0] = Omega[i].conj()/2\n",
      "C:\\Users\\ASUS\\AppData\\Local\\Temp\\ipykernel_1848\\916868080.py:20: ComplexWarning: Casting complex values to real discards the imaginary part\n",
      "  H[2,3] = Omega[i]/sqrt2\n",
      "C:\\Users\\ASUS\\AppData\\Local\\Temp\\ipykernel_1848\\916868080.py:21: ComplexWarning: Casting complex values to real discards the imaginary part\n",
      "  H[3,2] = Omega[i].conj()/sqrt2\n",
      "c:\\Users\\ASUS\\anaconda3\\envs\\qec\\lib\\site-packages\\scipy\\optimize\\_minimize.py:708: OptimizeWarning: Desired error not necessarily achieved due to precision loss.\n",
      "  res = _minimize_bfgs(fun, x0, args, jac, callback, **options)\n",
      "C:\\Users\\ASUS\\AppData\\Local\\Temp\\ipykernel_1848\\916868080.py:18: ComplexWarning: Casting complex values to real discards the imaginary part\n",
      "  H[0,1] = Omega[i]/2\n",
      "C:\\Users\\ASUS\\AppData\\Local\\Temp\\ipykernel_1848\\916868080.py:19: ComplexWarning: Casting complex values to real discards the imaginary part\n",
      "  H[1,0] = Omega[i].conj()/2\n",
      "C:\\Users\\ASUS\\AppData\\Local\\Temp\\ipykernel_1848\\916868080.py:20: ComplexWarning: Casting complex values to real discards the imaginary part\n",
      "  H[2,3] = Omega[i]/sqrt2\n",
      "C:\\Users\\ASUS\\AppData\\Local\\Temp\\ipykernel_1848\\916868080.py:21: ComplexWarning: Casting complex values to real discards the imaginary part\n",
      "  H[3,2] = Omega[i].conj()/sqrt2\n"
     ]
    },
    {
     "name": "stdout",
     "output_type": "stream",
     "text": [
      "         Current function value: 0.031754\n",
      "         Iterations: 3\n",
      "         Function evaluations: 4412\n",
      "         Gradient evaluations: 44\n",
      "progress: 36/100\n"
     ]
    },
    {
     "name": "stderr",
     "output_type": "stream",
     "text": [
      "C:\\Users\\ASUS\\AppData\\Local\\Temp\\ipykernel_1848\\916868080.py:18: ComplexWarning: Casting complex values to real discards the imaginary part\n",
      "  H[0,1] = Omega[i]/2\n",
      "C:\\Users\\ASUS\\AppData\\Local\\Temp\\ipykernel_1848\\916868080.py:19: ComplexWarning: Casting complex values to real discards the imaginary part\n",
      "  H[1,0] = Omega[i].conj()/2\n",
      "C:\\Users\\ASUS\\AppData\\Local\\Temp\\ipykernel_1848\\916868080.py:20: ComplexWarning: Casting complex values to real discards the imaginary part\n",
      "  H[2,3] = Omega[i]/sqrt2\n",
      "C:\\Users\\ASUS\\AppData\\Local\\Temp\\ipykernel_1848\\916868080.py:21: ComplexWarning: Casting complex values to real discards the imaginary part\n",
      "  H[3,2] = Omega[i].conj()/sqrt2\n",
      "c:\\Users\\ASUS\\anaconda3\\envs\\qec\\lib\\site-packages\\scipy\\optimize\\_minimize.py:708: OptimizeWarning: Desired error not necessarily achieved due to precision loss.\n",
      "  res = _minimize_bfgs(fun, x0, args, jac, callback, **options)\n",
      "C:\\Users\\ASUS\\AppData\\Local\\Temp\\ipykernel_1848\\916868080.py:18: ComplexWarning: Casting complex values to real discards the imaginary part\n",
      "  H[0,1] = Omega[i]/2\n",
      "C:\\Users\\ASUS\\AppData\\Local\\Temp\\ipykernel_1848\\916868080.py:19: ComplexWarning: Casting complex values to real discards the imaginary part\n",
      "  H[1,0] = Omega[i].conj()/2\n",
      "C:\\Users\\ASUS\\AppData\\Local\\Temp\\ipykernel_1848\\916868080.py:20: ComplexWarning: Casting complex values to real discards the imaginary part\n",
      "  H[2,3] = Omega[i]/sqrt2\n",
      "C:\\Users\\ASUS\\AppData\\Local\\Temp\\ipykernel_1848\\916868080.py:21: ComplexWarning: Casting complex values to real discards the imaginary part\n",
      "  H[3,2] = Omega[i].conj()/sqrt2\n"
     ]
    },
    {
     "name": "stdout",
     "output_type": "stream",
     "text": [
      "         Current function value: 0.593502\n",
      "         Iterations: 5\n",
      "         Function evaluations: 4512\n",
      "         Gradient evaluations: 45\n",
      "progress: 37/100\n"
     ]
    },
    {
     "name": "stderr",
     "output_type": "stream",
     "text": [
      "C:\\Users\\ASUS\\AppData\\Local\\Temp\\ipykernel_1848\\916868080.py:18: ComplexWarning: Casting complex values to real discards the imaginary part\n",
      "  H[0,1] = Omega[i]/2\n",
      "C:\\Users\\ASUS\\AppData\\Local\\Temp\\ipykernel_1848\\916868080.py:19: ComplexWarning: Casting complex values to real discards the imaginary part\n",
      "  H[1,0] = Omega[i].conj()/2\n",
      "C:\\Users\\ASUS\\AppData\\Local\\Temp\\ipykernel_1848\\916868080.py:20: ComplexWarning: Casting complex values to real discards the imaginary part\n",
      "  H[2,3] = Omega[i]/sqrt2\n",
      "C:\\Users\\ASUS\\AppData\\Local\\Temp\\ipykernel_1848\\916868080.py:21: ComplexWarning: Casting complex values to real discards the imaginary part\n",
      "  H[3,2] = Omega[i].conj()/sqrt2\n",
      "c:\\Users\\ASUS\\anaconda3\\envs\\qec\\lib\\site-packages\\scipy\\optimize\\_minimize.py:708: OptimizeWarning: Desired error not necessarily achieved due to precision loss.\n",
      "  res = _minimize_bfgs(fun, x0, args, jac, callback, **options)\n",
      "C:\\Users\\ASUS\\AppData\\Local\\Temp\\ipykernel_1848\\916868080.py:18: ComplexWarning: Casting complex values to real discards the imaginary part\n",
      "  H[0,1] = Omega[i]/2\n",
      "C:\\Users\\ASUS\\AppData\\Local\\Temp\\ipykernel_1848\\916868080.py:19: ComplexWarning: Casting complex values to real discards the imaginary part\n",
      "  H[1,0] = Omega[i].conj()/2\n",
      "C:\\Users\\ASUS\\AppData\\Local\\Temp\\ipykernel_1848\\916868080.py:20: ComplexWarning: Casting complex values to real discards the imaginary part\n",
      "  H[2,3] = Omega[i]/sqrt2\n",
      "C:\\Users\\ASUS\\AppData\\Local\\Temp\\ipykernel_1848\\916868080.py:21: ComplexWarning: Casting complex values to real discards the imaginary part\n",
      "  H[3,2] = Omega[i].conj()/sqrt2\n"
     ]
    },
    {
     "name": "stdout",
     "output_type": "stream",
     "text": [
      "         Current function value: 0.231001\n",
      "         Iterations: 3\n",
      "         Function evaluations: 5812\n",
      "         Gradient evaluations: 58\n",
      "progress: 38/100\n"
     ]
    },
    {
     "name": "stderr",
     "output_type": "stream",
     "text": [
      "C:\\Users\\ASUS\\AppData\\Local\\Temp\\ipykernel_1848\\916868080.py:18: ComplexWarning: Casting complex values to real discards the imaginary part\n",
      "  H[0,1] = Omega[i]/2\n",
      "C:\\Users\\ASUS\\AppData\\Local\\Temp\\ipykernel_1848\\916868080.py:19: ComplexWarning: Casting complex values to real discards the imaginary part\n",
      "  H[1,0] = Omega[i].conj()/2\n",
      "C:\\Users\\ASUS\\AppData\\Local\\Temp\\ipykernel_1848\\916868080.py:20: ComplexWarning: Casting complex values to real discards the imaginary part\n",
      "  H[2,3] = Omega[i]/sqrt2\n",
      "C:\\Users\\ASUS\\AppData\\Local\\Temp\\ipykernel_1848\\916868080.py:21: ComplexWarning: Casting complex values to real discards the imaginary part\n",
      "  H[3,2] = Omega[i].conj()/sqrt2\n",
      "c:\\Users\\ASUS\\anaconda3\\envs\\qec\\lib\\site-packages\\scipy\\optimize\\_minimize.py:708: OptimizeWarning: Desired error not necessarily achieved due to precision loss.\n",
      "  res = _minimize_bfgs(fun, x0, args, jac, callback, **options)\n",
      "C:\\Users\\ASUS\\AppData\\Local\\Temp\\ipykernel_1848\\916868080.py:18: ComplexWarning: Casting complex values to real discards the imaginary part\n",
      "  H[0,1] = Omega[i]/2\n",
      "C:\\Users\\ASUS\\AppData\\Local\\Temp\\ipykernel_1848\\916868080.py:19: ComplexWarning: Casting complex values to real discards the imaginary part\n",
      "  H[1,0] = Omega[i].conj()/2\n",
      "C:\\Users\\ASUS\\AppData\\Local\\Temp\\ipykernel_1848\\916868080.py:20: ComplexWarning: Casting complex values to real discards the imaginary part\n",
      "  H[2,3] = Omega[i]/sqrt2\n",
      "C:\\Users\\ASUS\\AppData\\Local\\Temp\\ipykernel_1848\\916868080.py:21: ComplexWarning: Casting complex values to real discards the imaginary part\n",
      "  H[3,2] = Omega[i].conj()/sqrt2\n"
     ]
    },
    {
     "name": "stdout",
     "output_type": "stream",
     "text": [
      "         Current function value: 0.001198\n",
      "         Iterations: 2\n",
      "         Function evaluations: 4112\n",
      "         Gradient evaluations: 41\n",
      "progress: 39/100\n"
     ]
    },
    {
     "name": "stderr",
     "output_type": "stream",
     "text": [
      "C:\\Users\\ASUS\\AppData\\Local\\Temp\\ipykernel_1848\\916868080.py:18: ComplexWarning: Casting complex values to real discards the imaginary part\n",
      "  H[0,1] = Omega[i]/2\n",
      "C:\\Users\\ASUS\\AppData\\Local\\Temp\\ipykernel_1848\\916868080.py:19: ComplexWarning: Casting complex values to real discards the imaginary part\n",
      "  H[1,0] = Omega[i].conj()/2\n",
      "C:\\Users\\ASUS\\AppData\\Local\\Temp\\ipykernel_1848\\916868080.py:20: ComplexWarning: Casting complex values to real discards the imaginary part\n",
      "  H[2,3] = Omega[i]/sqrt2\n",
      "C:\\Users\\ASUS\\AppData\\Local\\Temp\\ipykernel_1848\\916868080.py:21: ComplexWarning: Casting complex values to real discards the imaginary part\n",
      "  H[3,2] = Omega[i].conj()/sqrt2\n",
      "c:\\Users\\ASUS\\anaconda3\\envs\\qec\\lib\\site-packages\\scipy\\optimize\\_minimize.py:708: OptimizeWarning: Desired error not necessarily achieved due to precision loss.\n",
      "  res = _minimize_bfgs(fun, x0, args, jac, callback, **options)\n",
      "C:\\Users\\ASUS\\AppData\\Local\\Temp\\ipykernel_1848\\916868080.py:18: ComplexWarning: Casting complex values to real discards the imaginary part\n",
      "  H[0,1] = Omega[i]/2\n",
      "C:\\Users\\ASUS\\AppData\\Local\\Temp\\ipykernel_1848\\916868080.py:19: ComplexWarning: Casting complex values to real discards the imaginary part\n",
      "  H[1,0] = Omega[i].conj()/2\n",
      "C:\\Users\\ASUS\\AppData\\Local\\Temp\\ipykernel_1848\\916868080.py:20: ComplexWarning: Casting complex values to real discards the imaginary part\n",
      "  H[2,3] = Omega[i]/sqrt2\n",
      "C:\\Users\\ASUS\\AppData\\Local\\Temp\\ipykernel_1848\\916868080.py:21: ComplexWarning: Casting complex values to real discards the imaginary part\n",
      "  H[3,2] = Omega[i].conj()/sqrt2\n"
     ]
    },
    {
     "name": "stdout",
     "output_type": "stream",
     "text": [
      "         Current function value: 0.343442\n",
      "         Iterations: 6\n",
      "         Function evaluations: 3311\n",
      "         Gradient evaluations: 33\n",
      "progress: 40/100\n"
     ]
    },
    {
     "name": "stderr",
     "output_type": "stream",
     "text": [
      "C:\\Users\\ASUS\\AppData\\Local\\Temp\\ipykernel_1848\\916868080.py:18: ComplexWarning: Casting complex values to real discards the imaginary part\n",
      "  H[0,1] = Omega[i]/2\n",
      "C:\\Users\\ASUS\\AppData\\Local\\Temp\\ipykernel_1848\\916868080.py:19: ComplexWarning: Casting complex values to real discards the imaginary part\n",
      "  H[1,0] = Omega[i].conj()/2\n",
      "C:\\Users\\ASUS\\AppData\\Local\\Temp\\ipykernel_1848\\916868080.py:20: ComplexWarning: Casting complex values to real discards the imaginary part\n",
      "  H[2,3] = Omega[i]/sqrt2\n",
      "C:\\Users\\ASUS\\AppData\\Local\\Temp\\ipykernel_1848\\916868080.py:21: ComplexWarning: Casting complex values to real discards the imaginary part\n",
      "  H[3,2] = Omega[i].conj()/sqrt2\n",
      "c:\\Users\\ASUS\\anaconda3\\envs\\qec\\lib\\site-packages\\scipy\\optimize\\_minimize.py:708: OptimizeWarning: Desired error not necessarily achieved due to precision loss.\n",
      "  res = _minimize_bfgs(fun, x0, args, jac, callback, **options)\n",
      "C:\\Users\\ASUS\\AppData\\Local\\Temp\\ipykernel_1848\\916868080.py:18: ComplexWarning: Casting complex values to real discards the imaginary part\n",
      "  H[0,1] = Omega[i]/2\n",
      "C:\\Users\\ASUS\\AppData\\Local\\Temp\\ipykernel_1848\\916868080.py:19: ComplexWarning: Casting complex values to real discards the imaginary part\n",
      "  H[1,0] = Omega[i].conj()/2\n",
      "C:\\Users\\ASUS\\AppData\\Local\\Temp\\ipykernel_1848\\916868080.py:20: ComplexWarning: Casting complex values to real discards the imaginary part\n",
      "  H[2,3] = Omega[i]/sqrt2\n",
      "C:\\Users\\ASUS\\AppData\\Local\\Temp\\ipykernel_1848\\916868080.py:21: ComplexWarning: Casting complex values to real discards the imaginary part\n",
      "  H[3,2] = Omega[i].conj()/sqrt2\n"
     ]
    },
    {
     "name": "stdout",
     "output_type": "stream",
     "text": [
      "         Current function value: 0.351727\n",
      "         Iterations: 4\n",
      "         Function evaluations: 4412\n",
      "         Gradient evaluations: 44\n",
      "progress: 41/100\n"
     ]
    },
    {
     "name": "stderr",
     "output_type": "stream",
     "text": [
      "C:\\Users\\ASUS\\AppData\\Local\\Temp\\ipykernel_1848\\916868080.py:18: ComplexWarning: Casting complex values to real discards the imaginary part\n",
      "  H[0,1] = Omega[i]/2\n",
      "C:\\Users\\ASUS\\AppData\\Local\\Temp\\ipykernel_1848\\916868080.py:19: ComplexWarning: Casting complex values to real discards the imaginary part\n",
      "  H[1,0] = Omega[i].conj()/2\n",
      "C:\\Users\\ASUS\\AppData\\Local\\Temp\\ipykernel_1848\\916868080.py:20: ComplexWarning: Casting complex values to real discards the imaginary part\n",
      "  H[2,3] = Omega[i]/sqrt2\n",
      "C:\\Users\\ASUS\\AppData\\Local\\Temp\\ipykernel_1848\\916868080.py:21: ComplexWarning: Casting complex values to real discards the imaginary part\n",
      "  H[3,2] = Omega[i].conj()/sqrt2\n",
      "c:\\Users\\ASUS\\anaconda3\\envs\\qec\\lib\\site-packages\\scipy\\optimize\\_minimize.py:708: OptimizeWarning: Desired error not necessarily achieved due to precision loss.\n",
      "  res = _minimize_bfgs(fun, x0, args, jac, callback, **options)\n",
      "C:\\Users\\ASUS\\AppData\\Local\\Temp\\ipykernel_1848\\916868080.py:18: ComplexWarning: Casting complex values to real discards the imaginary part\n",
      "  H[0,1] = Omega[i]/2\n",
      "C:\\Users\\ASUS\\AppData\\Local\\Temp\\ipykernel_1848\\916868080.py:19: ComplexWarning: Casting complex values to real discards the imaginary part\n",
      "  H[1,0] = Omega[i].conj()/2\n",
      "C:\\Users\\ASUS\\AppData\\Local\\Temp\\ipykernel_1848\\916868080.py:20: ComplexWarning: Casting complex values to real discards the imaginary part\n",
      "  H[2,3] = Omega[i]/sqrt2\n",
      "C:\\Users\\ASUS\\AppData\\Local\\Temp\\ipykernel_1848\\916868080.py:21: ComplexWarning: Casting complex values to real discards the imaginary part\n",
      "  H[3,2] = Omega[i].conj()/sqrt2\n"
     ]
    },
    {
     "name": "stdout",
     "output_type": "stream",
     "text": [
      "         Current function value: 0.002356\n",
      "         Iterations: 2\n",
      "         Function evaluations: 3709\n",
      "         Gradient evaluations: 37\n",
      "progress: 42/100\n"
     ]
    },
    {
     "name": "stderr",
     "output_type": "stream",
     "text": [
      "C:\\Users\\ASUS\\AppData\\Local\\Temp\\ipykernel_1848\\916868080.py:18: ComplexWarning: Casting complex values to real discards the imaginary part\n",
      "  H[0,1] = Omega[i]/2\n",
      "C:\\Users\\ASUS\\AppData\\Local\\Temp\\ipykernel_1848\\916868080.py:19: ComplexWarning: Casting complex values to real discards the imaginary part\n",
      "  H[1,0] = Omega[i].conj()/2\n",
      "C:\\Users\\ASUS\\AppData\\Local\\Temp\\ipykernel_1848\\916868080.py:20: ComplexWarning: Casting complex values to real discards the imaginary part\n",
      "  H[2,3] = Omega[i]/sqrt2\n",
      "C:\\Users\\ASUS\\AppData\\Local\\Temp\\ipykernel_1848\\916868080.py:21: ComplexWarning: Casting complex values to real discards the imaginary part\n",
      "  H[3,2] = Omega[i].conj()/sqrt2\n",
      "c:\\Users\\ASUS\\anaconda3\\envs\\qec\\lib\\site-packages\\scipy\\optimize\\_minimize.py:708: OptimizeWarning: Desired error not necessarily achieved due to precision loss.\n",
      "  res = _minimize_bfgs(fun, x0, args, jac, callback, **options)\n",
      "C:\\Users\\ASUS\\AppData\\Local\\Temp\\ipykernel_1848\\916868080.py:18: ComplexWarning: Casting complex values to real discards the imaginary part\n",
      "  H[0,1] = Omega[i]/2\n",
      "C:\\Users\\ASUS\\AppData\\Local\\Temp\\ipykernel_1848\\916868080.py:19: ComplexWarning: Casting complex values to real discards the imaginary part\n",
      "  H[1,0] = Omega[i].conj()/2\n",
      "C:\\Users\\ASUS\\AppData\\Local\\Temp\\ipykernel_1848\\916868080.py:20: ComplexWarning: Casting complex values to real discards the imaginary part\n",
      "  H[2,3] = Omega[i]/sqrt2\n",
      "C:\\Users\\ASUS\\AppData\\Local\\Temp\\ipykernel_1848\\916868080.py:21: ComplexWarning: Casting complex values to real discards the imaginary part\n",
      "  H[3,2] = Omega[i].conj()/sqrt2\n"
     ]
    },
    {
     "name": "stdout",
     "output_type": "stream",
     "text": [
      "         Current function value: 0.287657\n",
      "         Iterations: 2\n",
      "         Function evaluations: 3012\n",
      "         Gradient evaluations: 30\n",
      "progress: 43/100\n"
     ]
    },
    {
     "name": "stderr",
     "output_type": "stream",
     "text": [
      "C:\\Users\\ASUS\\AppData\\Local\\Temp\\ipykernel_1848\\916868080.py:18: ComplexWarning: Casting complex values to real discards the imaginary part\n",
      "  H[0,1] = Omega[i]/2\n",
      "C:\\Users\\ASUS\\AppData\\Local\\Temp\\ipykernel_1848\\916868080.py:19: ComplexWarning: Casting complex values to real discards the imaginary part\n",
      "  H[1,0] = Omega[i].conj()/2\n",
      "C:\\Users\\ASUS\\AppData\\Local\\Temp\\ipykernel_1848\\916868080.py:20: ComplexWarning: Casting complex values to real discards the imaginary part\n",
      "  H[2,3] = Omega[i]/sqrt2\n",
      "C:\\Users\\ASUS\\AppData\\Local\\Temp\\ipykernel_1848\\916868080.py:21: ComplexWarning: Casting complex values to real discards the imaginary part\n",
      "  H[3,2] = Omega[i].conj()/sqrt2\n",
      "c:\\Users\\ASUS\\anaconda3\\envs\\qec\\lib\\site-packages\\scipy\\optimize\\_minimize.py:708: OptimizeWarning: Desired error not necessarily achieved due to precision loss.\n",
      "  res = _minimize_bfgs(fun, x0, args, jac, callback, **options)\n",
      "C:\\Users\\ASUS\\AppData\\Local\\Temp\\ipykernel_1848\\916868080.py:18: ComplexWarning: Casting complex values to real discards the imaginary part\n",
      "  H[0,1] = Omega[i]/2\n",
      "C:\\Users\\ASUS\\AppData\\Local\\Temp\\ipykernel_1848\\916868080.py:19: ComplexWarning: Casting complex values to real discards the imaginary part\n",
      "  H[1,0] = Omega[i].conj()/2\n",
      "C:\\Users\\ASUS\\AppData\\Local\\Temp\\ipykernel_1848\\916868080.py:20: ComplexWarning: Casting complex values to real discards the imaginary part\n",
      "  H[2,3] = Omega[i]/sqrt2\n",
      "C:\\Users\\ASUS\\AppData\\Local\\Temp\\ipykernel_1848\\916868080.py:21: ComplexWarning: Casting complex values to real discards the imaginary part\n",
      "  H[3,2] = Omega[i].conj()/sqrt2\n"
     ]
    },
    {
     "name": "stdout",
     "output_type": "stream",
     "text": [
      "         Current function value: 0.585620\n",
      "         Iterations: 2\n",
      "         Function evaluations: 3310\n",
      "         Gradient evaluations: 33\n",
      "progress: 44/100\n"
     ]
    },
    {
     "name": "stderr",
     "output_type": "stream",
     "text": [
      "C:\\Users\\ASUS\\AppData\\Local\\Temp\\ipykernel_1848\\916868080.py:18: ComplexWarning: Casting complex values to real discards the imaginary part\n",
      "  H[0,1] = Omega[i]/2\n",
      "C:\\Users\\ASUS\\AppData\\Local\\Temp\\ipykernel_1848\\916868080.py:19: ComplexWarning: Casting complex values to real discards the imaginary part\n",
      "  H[1,0] = Omega[i].conj()/2\n",
      "C:\\Users\\ASUS\\AppData\\Local\\Temp\\ipykernel_1848\\916868080.py:20: ComplexWarning: Casting complex values to real discards the imaginary part\n",
      "  H[2,3] = Omega[i]/sqrt2\n",
      "C:\\Users\\ASUS\\AppData\\Local\\Temp\\ipykernel_1848\\916868080.py:21: ComplexWarning: Casting complex values to real discards the imaginary part\n",
      "  H[3,2] = Omega[i].conj()/sqrt2\n",
      "c:\\Users\\ASUS\\anaconda3\\envs\\qec\\lib\\site-packages\\scipy\\optimize\\_minimize.py:708: OptimizeWarning: Desired error not necessarily achieved due to precision loss.\n",
      "  res = _minimize_bfgs(fun, x0, args, jac, callback, **options)\n",
      "C:\\Users\\ASUS\\AppData\\Local\\Temp\\ipykernel_1848\\916868080.py:18: ComplexWarning: Casting complex values to real discards the imaginary part\n",
      "  H[0,1] = Omega[i]/2\n",
      "C:\\Users\\ASUS\\AppData\\Local\\Temp\\ipykernel_1848\\916868080.py:19: ComplexWarning: Casting complex values to real discards the imaginary part\n",
      "  H[1,0] = Omega[i].conj()/2\n",
      "C:\\Users\\ASUS\\AppData\\Local\\Temp\\ipykernel_1848\\916868080.py:20: ComplexWarning: Casting complex values to real discards the imaginary part\n",
      "  H[2,3] = Omega[i]/sqrt2\n",
      "C:\\Users\\ASUS\\AppData\\Local\\Temp\\ipykernel_1848\\916868080.py:21: ComplexWarning: Casting complex values to real discards the imaginary part\n",
      "  H[3,2] = Omega[i].conj()/sqrt2\n"
     ]
    },
    {
     "name": "stdout",
     "output_type": "stream",
     "text": [
      "         Current function value: 0.751546\n",
      "         Iterations: 4\n",
      "         Function evaluations: 4912\n",
      "         Gradient evaluations: 49\n",
      "progress: 45/100\n"
     ]
    },
    {
     "name": "stderr",
     "output_type": "stream",
     "text": [
      "C:\\Users\\ASUS\\AppData\\Local\\Temp\\ipykernel_1848\\916868080.py:18: ComplexWarning: Casting complex values to real discards the imaginary part\n",
      "  H[0,1] = Omega[i]/2\n",
      "C:\\Users\\ASUS\\AppData\\Local\\Temp\\ipykernel_1848\\916868080.py:19: ComplexWarning: Casting complex values to real discards the imaginary part\n",
      "  H[1,0] = Omega[i].conj()/2\n",
      "C:\\Users\\ASUS\\AppData\\Local\\Temp\\ipykernel_1848\\916868080.py:20: ComplexWarning: Casting complex values to real discards the imaginary part\n",
      "  H[2,3] = Omega[i]/sqrt2\n",
      "C:\\Users\\ASUS\\AppData\\Local\\Temp\\ipykernel_1848\\916868080.py:21: ComplexWarning: Casting complex values to real discards the imaginary part\n",
      "  H[3,2] = Omega[i].conj()/sqrt2\n",
      "c:\\Users\\ASUS\\anaconda3\\envs\\qec\\lib\\site-packages\\scipy\\optimize\\_minimize.py:708: OptimizeWarning: Desired error not necessarily achieved due to precision loss.\n",
      "  res = _minimize_bfgs(fun, x0, args, jac, callback, **options)\n",
      "C:\\Users\\ASUS\\AppData\\Local\\Temp\\ipykernel_1848\\916868080.py:18: ComplexWarning: Casting complex values to real discards the imaginary part\n",
      "  H[0,1] = Omega[i]/2\n",
      "C:\\Users\\ASUS\\AppData\\Local\\Temp\\ipykernel_1848\\916868080.py:19: ComplexWarning: Casting complex values to real discards the imaginary part\n",
      "  H[1,0] = Omega[i].conj()/2\n",
      "C:\\Users\\ASUS\\AppData\\Local\\Temp\\ipykernel_1848\\916868080.py:20: ComplexWarning: Casting complex values to real discards the imaginary part\n",
      "  H[2,3] = Omega[i]/sqrt2\n",
      "C:\\Users\\ASUS\\AppData\\Local\\Temp\\ipykernel_1848\\916868080.py:21: ComplexWarning: Casting complex values to real discards the imaginary part\n",
      "  H[3,2] = Omega[i].conj()/sqrt2\n"
     ]
    },
    {
     "name": "stdout",
     "output_type": "stream",
     "text": [
      "         Current function value: 0.216631\n",
      "         Iterations: 6\n",
      "         Function evaluations: 3511\n",
      "         Gradient evaluations: 35\n",
      "progress: 46/100\n"
     ]
    },
    {
     "name": "stderr",
     "output_type": "stream",
     "text": [
      "C:\\Users\\ASUS\\AppData\\Local\\Temp\\ipykernel_1848\\916868080.py:18: ComplexWarning: Casting complex values to real discards the imaginary part\n",
      "  H[0,1] = Omega[i]/2\n",
      "C:\\Users\\ASUS\\AppData\\Local\\Temp\\ipykernel_1848\\916868080.py:19: ComplexWarning: Casting complex values to real discards the imaginary part\n",
      "  H[1,0] = Omega[i].conj()/2\n",
      "C:\\Users\\ASUS\\AppData\\Local\\Temp\\ipykernel_1848\\916868080.py:20: ComplexWarning: Casting complex values to real discards the imaginary part\n",
      "  H[2,3] = Omega[i]/sqrt2\n",
      "C:\\Users\\ASUS\\AppData\\Local\\Temp\\ipykernel_1848\\916868080.py:21: ComplexWarning: Casting complex values to real discards the imaginary part\n",
      "  H[3,2] = Omega[i].conj()/sqrt2\n",
      "c:\\Users\\ASUS\\anaconda3\\envs\\qec\\lib\\site-packages\\scipy\\optimize\\_minimize.py:708: OptimizeWarning: Desired error not necessarily achieved due to precision loss.\n",
      "  res = _minimize_bfgs(fun, x0, args, jac, callback, **options)\n",
      "C:\\Users\\ASUS\\AppData\\Local\\Temp\\ipykernel_1848\\916868080.py:18: ComplexWarning: Casting complex values to real discards the imaginary part\n",
      "  H[0,1] = Omega[i]/2\n",
      "C:\\Users\\ASUS\\AppData\\Local\\Temp\\ipykernel_1848\\916868080.py:19: ComplexWarning: Casting complex values to real discards the imaginary part\n",
      "  H[1,0] = Omega[i].conj()/2\n",
      "C:\\Users\\ASUS\\AppData\\Local\\Temp\\ipykernel_1848\\916868080.py:20: ComplexWarning: Casting complex values to real discards the imaginary part\n",
      "  H[2,3] = Omega[i]/sqrt2\n",
      "C:\\Users\\ASUS\\AppData\\Local\\Temp\\ipykernel_1848\\916868080.py:21: ComplexWarning: Casting complex values to real discards the imaginary part\n",
      "  H[3,2] = Omega[i].conj()/sqrt2\n"
     ]
    },
    {
     "name": "stdout",
     "output_type": "stream",
     "text": [
      "         Current function value: 0.004043\n",
      "         Iterations: 3\n",
      "         Function evaluations: 3912\n",
      "         Gradient evaluations: 39\n",
      "progress: 47/100\n"
     ]
    },
    {
     "name": "stderr",
     "output_type": "stream",
     "text": [
      "C:\\Users\\ASUS\\AppData\\Local\\Temp\\ipykernel_1848\\916868080.py:18: ComplexWarning: Casting complex values to real discards the imaginary part\n",
      "  H[0,1] = Omega[i]/2\n",
      "C:\\Users\\ASUS\\AppData\\Local\\Temp\\ipykernel_1848\\916868080.py:19: ComplexWarning: Casting complex values to real discards the imaginary part\n",
      "  H[1,0] = Omega[i].conj()/2\n",
      "C:\\Users\\ASUS\\AppData\\Local\\Temp\\ipykernel_1848\\916868080.py:20: ComplexWarning: Casting complex values to real discards the imaginary part\n",
      "  H[2,3] = Omega[i]/sqrt2\n",
      "C:\\Users\\ASUS\\AppData\\Local\\Temp\\ipykernel_1848\\916868080.py:21: ComplexWarning: Casting complex values to real discards the imaginary part\n",
      "  H[3,2] = Omega[i].conj()/sqrt2\n",
      "c:\\Users\\ASUS\\anaconda3\\envs\\qec\\lib\\site-packages\\scipy\\optimize\\_minimize.py:708: OptimizeWarning: Desired error not necessarily achieved due to precision loss.\n",
      "  res = _minimize_bfgs(fun, x0, args, jac, callback, **options)\n",
      "C:\\Users\\ASUS\\AppData\\Local\\Temp\\ipykernel_1848\\916868080.py:18: ComplexWarning: Casting complex values to real discards the imaginary part\n",
      "  H[0,1] = Omega[i]/2\n",
      "C:\\Users\\ASUS\\AppData\\Local\\Temp\\ipykernel_1848\\916868080.py:19: ComplexWarning: Casting complex values to real discards the imaginary part\n",
      "  H[1,0] = Omega[i].conj()/2\n",
      "C:\\Users\\ASUS\\AppData\\Local\\Temp\\ipykernel_1848\\916868080.py:20: ComplexWarning: Casting complex values to real discards the imaginary part\n",
      "  H[2,3] = Omega[i]/sqrt2\n",
      "C:\\Users\\ASUS\\AppData\\Local\\Temp\\ipykernel_1848\\916868080.py:21: ComplexWarning: Casting complex values to real discards the imaginary part\n",
      "  H[3,2] = Omega[i].conj()/sqrt2\n"
     ]
    },
    {
     "name": "stdout",
     "output_type": "stream",
     "text": [
      "         Current function value: 0.080062\n",
      "         Iterations: 4\n",
      "         Function evaluations: 3612\n",
      "         Gradient evaluations: 36\n",
      "progress: 48/100\n"
     ]
    },
    {
     "name": "stderr",
     "output_type": "stream",
     "text": [
      "C:\\Users\\ASUS\\AppData\\Local\\Temp\\ipykernel_1848\\916868080.py:18: ComplexWarning: Casting complex values to real discards the imaginary part\n",
      "  H[0,1] = Omega[i]/2\n",
      "C:\\Users\\ASUS\\AppData\\Local\\Temp\\ipykernel_1848\\916868080.py:19: ComplexWarning: Casting complex values to real discards the imaginary part\n",
      "  H[1,0] = Omega[i].conj()/2\n",
      "C:\\Users\\ASUS\\AppData\\Local\\Temp\\ipykernel_1848\\916868080.py:20: ComplexWarning: Casting complex values to real discards the imaginary part\n",
      "  H[2,3] = Omega[i]/sqrt2\n",
      "C:\\Users\\ASUS\\AppData\\Local\\Temp\\ipykernel_1848\\916868080.py:21: ComplexWarning: Casting complex values to real discards the imaginary part\n",
      "  H[3,2] = Omega[i].conj()/sqrt2\n",
      "c:\\Users\\ASUS\\anaconda3\\envs\\qec\\lib\\site-packages\\scipy\\optimize\\_minimize.py:708: OptimizeWarning: Desired error not necessarily achieved due to precision loss.\n",
      "  res = _minimize_bfgs(fun, x0, args, jac, callback, **options)\n",
      "C:\\Users\\ASUS\\AppData\\Local\\Temp\\ipykernel_1848\\916868080.py:18: ComplexWarning: Casting complex values to real discards the imaginary part\n",
      "  H[0,1] = Omega[i]/2\n",
      "C:\\Users\\ASUS\\AppData\\Local\\Temp\\ipykernel_1848\\916868080.py:19: ComplexWarning: Casting complex values to real discards the imaginary part\n",
      "  H[1,0] = Omega[i].conj()/2\n",
      "C:\\Users\\ASUS\\AppData\\Local\\Temp\\ipykernel_1848\\916868080.py:20: ComplexWarning: Casting complex values to real discards the imaginary part\n",
      "  H[2,3] = Omega[i]/sqrt2\n",
      "C:\\Users\\ASUS\\AppData\\Local\\Temp\\ipykernel_1848\\916868080.py:21: ComplexWarning: Casting complex values to real discards the imaginary part\n",
      "  H[3,2] = Omega[i].conj()/sqrt2\n"
     ]
    },
    {
     "name": "stdout",
     "output_type": "stream",
     "text": [
      "         Current function value: 0.163166\n",
      "         Iterations: 3\n",
      "         Function evaluations: 4611\n",
      "         Gradient evaluations: 46\n",
      "progress: 49/100\n"
     ]
    },
    {
     "name": "stderr",
     "output_type": "stream",
     "text": [
      "C:\\Users\\ASUS\\AppData\\Local\\Temp\\ipykernel_1848\\916868080.py:18: ComplexWarning: Casting complex values to real discards the imaginary part\n",
      "  H[0,1] = Omega[i]/2\n",
      "C:\\Users\\ASUS\\AppData\\Local\\Temp\\ipykernel_1848\\916868080.py:19: ComplexWarning: Casting complex values to real discards the imaginary part\n",
      "  H[1,0] = Omega[i].conj()/2\n",
      "C:\\Users\\ASUS\\AppData\\Local\\Temp\\ipykernel_1848\\916868080.py:20: ComplexWarning: Casting complex values to real discards the imaginary part\n",
      "  H[2,3] = Omega[i]/sqrt2\n",
      "C:\\Users\\ASUS\\AppData\\Local\\Temp\\ipykernel_1848\\916868080.py:21: ComplexWarning: Casting complex values to real discards the imaginary part\n",
      "  H[3,2] = Omega[i].conj()/sqrt2\n",
      "c:\\Users\\ASUS\\anaconda3\\envs\\qec\\lib\\site-packages\\scipy\\optimize\\_minimize.py:708: OptimizeWarning: Desired error not necessarily achieved due to precision loss.\n",
      "  res = _minimize_bfgs(fun, x0, args, jac, callback, **options)\n",
      "C:\\Users\\ASUS\\AppData\\Local\\Temp\\ipykernel_1848\\916868080.py:18: ComplexWarning: Casting complex values to real discards the imaginary part\n",
      "  H[0,1] = Omega[i]/2\n",
      "C:\\Users\\ASUS\\AppData\\Local\\Temp\\ipykernel_1848\\916868080.py:19: ComplexWarning: Casting complex values to real discards the imaginary part\n",
      "  H[1,0] = Omega[i].conj()/2\n",
      "C:\\Users\\ASUS\\AppData\\Local\\Temp\\ipykernel_1848\\916868080.py:20: ComplexWarning: Casting complex values to real discards the imaginary part\n",
      "  H[2,3] = Omega[i]/sqrt2\n",
      "C:\\Users\\ASUS\\AppData\\Local\\Temp\\ipykernel_1848\\916868080.py:21: ComplexWarning: Casting complex values to real discards the imaginary part\n",
      "  H[3,2] = Omega[i].conj()/sqrt2\n"
     ]
    },
    {
     "name": "stdout",
     "output_type": "stream",
     "text": [
      "         Current function value: 0.367627\n",
      "         Iterations: 3\n",
      "         Function evaluations: 3712\n",
      "         Gradient evaluations: 37\n",
      "progress: 50/100\n"
     ]
    }
   ],
   "source": [
    "result_plot = []\n",
    "count = 0 \n",
    "for T in T_list:\n",
    "    count += 1\n",
    "    print(f\"omptimize under the time: {T}')\")\n",
    "    print(f\"progress: {count}/{len(T_list)}\")\n",
    "    sample = Optimalization_2_qubits(T) # Create an instance of the class\n",
    "    result = sample.optimize() # Optimize the phase angles\n",
    "    result_plot.append(result[0]) # Append the minimum fidelity to the results list\n",
    "\n",
    "\n"
   ]
  },
  {
   "cell_type": "code",
   "execution_count": null,
   "metadata": {},
   "outputs": [],
   "source": [
    "plt.figure(figsize=(10, 6))\n",
    "plt.scatter(T_list, result_plot, color='blue', marker='o')\n",
    "plt.title(r\"Optimal 1-F vs $T\\Omega_{max}$\")\n",
    "plt.xlabel(r'$T \\Omega_{max}$')\n",
    "\n",
    "plt.grid(True)\n",
    "plt.show()"
   ]
  }
 ],
 "metadata": {
  "kernelspec": {
   "display_name": "qec",
   "language": "python",
   "name": "python3"
  },
  "language_info": {
   "codemirror_mode": {
    "name": "ipython",
    "version": 3
   },
   "file_extension": ".py",
   "mimetype": "text/x-python",
   "name": "python",
   "nbconvert_exporter": "python",
   "pygments_lexer": "ipython3",
   "version": "3.9.21"
  }
 },
 "nbformat": 4,
 "nbformat_minor": 2
}
