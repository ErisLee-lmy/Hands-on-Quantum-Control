{
 "cells": [
  {
   "cell_type": "code",
   "execution_count": 54,
   "metadata": {},
   "outputs": [],
   "source": [
    "from qutip import * # qutip == 5.0.4\n",
    "import numpy as np\n",
    "import matplotlib.pyplot as plt\n",
    "from scipy.optimize import minimize"
   ]
  },
  {
   "cell_type": "markdown",
   "metadata": {},
   "source": [
    "# Hamiltonian\n",
    "$$\\begin{align}​\n",
    "H(t) &= \\sum_{i = j}^{n} \\frac{\\Omega_j(t)}{2} |1\\rangle_j {}_j\\langle r| + \\text{h.c.} \\\\​\n",
    "&+ \\sum_{j <> k} B_{jk} |rr\\rangle_{jk} {}_{jk}\\langle rr|.​\n",
    "\\end{align}$$"
   ]
  },
  {
   "cell_type": "code",
   "execution_count": null,
   "metadata": {},
   "outputs": [],
   "source": [
    "# Define the parameters\n",
    "N = 100 # time steps\n",
    "T = 10.0 # total time\n",
    "t_list = np.linspace(0, T, N) # time array\n",
    "dt = t[1] - t[0] # time step\n",
    "method='BFGS'\n",
    "\n",
    "Omega_max = 1 "
   ]
  },
  {
   "cell_type": "markdown",
   "metadata": {},
   "source": [
    "# the Two Qubit System with Infinte Blockade Strength"
   ]
  },
  {
   "cell_type": "code",
   "execution_count": null,
   "metadata": {},
   "outputs": [],
   "source": [
    "n = 2 # number of qubits\n",
    "dim = 3 # 3 levels for each qubit\n",
    "\n",
    "# Initialize the state\n",
    "qubit1 = Qobj([[0],[1],[0]]) # first qubit\n",
    "qubit2 = Qobj([[1],[1],[0]]) # second qubit\n",
    "joint_state = tensor(qubit1, qubit2) # joint state of the two qubits"
   ]
  },
  {
   "cell_type": "code",
   "execution_count": null,
   "metadata": {},
   "outputs": [],
   "source": [
    "def get_H(phi):\n",
    "    phi = np.random.uniform(0, 2 * np.pi, size=N)\n",
    "    sqrt2 = np.sqrt(2)\n",
    "    Omega = Omega_max*np.exp(phi)# Global Pulse so Omega_1 = Omega_2 = Omega\n",
    "\n",
    "    H = np.zeros((4,4)) # Hamiltonian matrix\n",
    "    H_list = [] # List to store Hamiltonian matrices\n",
    "    for i in range(N):\n",
    "        H[0,1] = Omega[i]/2 \n",
    "        H[1,0] = Omega[i]/2\n",
    "        H[2,3] = Omega[i]/sqrt2\n",
    "        H[3,2] = Omega[i]/sqrt2\n",
    "        \n",
    "        H_operator = Qobj(H) # Convert to Qobj\n",
    "        H_list.append(H_operator) # Append to the list\n",
    "    return H_list # Return the list of Hamiltonian matrices\n",
    "\n",
    "def get_U(phi):\n",
    "    # Define the unitary operator\n",
    "    H_list = get_H(phi) # Get the Hamiltonian list\n",
    "    U_total = qeye(H_list[0].dims[0]) # Initialize the total unitary operator\n",
    "    for i in range(len(H_list)):\n",
    "        H_i = H_list[i]               # Calculate the Hamiltonian for the current time step\n",
    "        U_i = (-1j * H_i * dt).expm() \n",
    "        U_total = U_i * U_total\n",
    "    return U_total # Return the total unitary operator\n",
    "\n",
    "def get"
   ]
  }
 ],
 "metadata": {
  "kernelspec": {
   "display_name": "qec",
   "language": "python",
   "name": "python3"
  },
  "language_info": {
   "codemirror_mode": {
    "name": "ipython",
    "version": 3
   },
   "file_extension": ".py",
   "mimetype": "text/x-python",
   "name": "python",
   "nbconvert_exporter": "python",
   "pygments_lexer": "ipython3",
   "version": "3.9.21"
  }
 },
 "nbformat": 4,
 "nbformat_minor": 2
}
