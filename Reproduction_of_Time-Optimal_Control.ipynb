{
 "cells": [
  {
   "cell_type": "code",
   "execution_count": null,
   "metadata": {},
   "outputs": [],
   "source": [
    "from qutip import * # qutip == 5.0.4\n",
    "import numpy as np\n",
    "import matplotlib.pyplot as plt\n",
    "from scipy.optimize import minimize"
   ]
  },
  {
   "cell_type": "markdown",
   "metadata": {},
   "source": [
    "# Hamiltonian\n",
    "$$\\begin{align}​\n",
    "H(t) &= \\sum_{i = j}^{n} \\frac{\\Omega_j(t)}{2} |1\\rangle_j {}_j\\langle r| + \\text{h.c.} \\\\​\n",
    "&+ \\sum_{j <> k} B_{jk} |rr\\rangle_{jk} {}_{jk}\\langle rr|.​\n",
    "\\end{align}$$"
   ]
  },
  {
   "cell_type": "code",
   "execution_count": 25,
   "metadata": {},
   "outputs": [],
   "source": [
    "# Define the parameters\n",
    "N = 1000 # time steps\n",
    "T = 1.0 # total time\n",
    "t = np.linspace(0, T, N) # time array\n",
    "Omega_max = 10"
   ]
  },
  {
   "cell_type": "markdown",
   "metadata": {},
   "source": [
    "# the Two Qubit System with Infinte Blockade Strength"
   ]
  },
  {
   "cell_type": "code",
   "execution_count": null,
   "metadata": {},
   "outputs": [
    {
     "data": {
      "text/plain": [
       "(Quantum object: dims=[[3], [1]], shape=(3, 1), type='ket', dtype=Dense\n",
       " Qobj data =\n",
       " [[0.]\n",
       "  [1.]\n",
       "  [0.]],\n",
       " Quantum object: dims=[[3], [1]], shape=(3, 1), type='ket', dtype=Dense\n",
       " Qobj data =\n",
       " [[1.]\n",
       "  [1.]\n",
       "  [0.]],\n",
       " Quantum object: dims=[[3, 3], [1, 1]], shape=(9, 1), type='ket', dtype=Dense\n",
       " Qobj data =\n",
       " [[0.]\n",
       "  [0.]\n",
       "  [0.]\n",
       "  [1.]\n",
       "  [1.]\n",
       "  [0.]\n",
       "  [0.]\n",
       "  [0.]\n",
       "  [0.]])"
      ]
     },
     "execution_count": 26,
     "metadata": {},
     "output_type": "execute_result"
    }
   ],
   "source": [
    "n = 2 # number of qubits\n",
    "dim = 3 # 3 levels for each qubit\n",
    "\n",
    "# Initialize the state\n",
    "qubit1 = Qobj([[0],[1],[0]]) # first qubit\n",
    "qubit2 = Qobj([[1],[1],[0]]) # second qubit\n",
    "joint_state = tensor(qubit1, qubit2) # joint state of the two qubits\n",
    "\n",
    "Omega = np.zeros(N) # Global Pulse so Omega_1 = Omega_2 = Omega\n",
    "qubit1,qubit2,joint_state"
   ]
  }
 ],
 "metadata": {
  "kernelspec": {
   "display_name": "qec",
   "language": "python",
   "name": "python3"
  },
  "language_info": {
   "codemirror_mode": {
    "name": "ipython",
    "version": 3
   },
   "file_extension": ".py",
   "mimetype": "text/x-python",
   "name": "python",
   "nbconvert_exporter": "python",
   "pygments_lexer": "ipython3",
   "version": "3.9.21"
  }
 },
 "nbformat": 4,
 "nbformat_minor": 2
}
