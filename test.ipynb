{
 "cells": [
  {
   "cell_type": "code",
   "execution_count": 7,
   "id": "43091c9e",
   "metadata": {},
   "outputs": [],
   "source": [
    "from qutip import * # qutip == 5.0.4\n",
    "import numpy as np\n",
    "import matplotlib.pyplot as plt\n",
    "from scipy.optimize import minimize\n",
    "import warnings\n",
    "warnings.filterwarnings(\"ignore\")"
   ]
  },
  {
   "cell_type": "code",
   "execution_count": 8,
   "id": "f6126877",
   "metadata": {},
   "outputs": [],
   "source": [
    "N = 99 # number of time steps\n",
    "dim = 4 \n",
    "basis_state = [basis(dim,i) for i in range(dim)] # basis states\n",
    "# in the basis of |10>, |0r>, |11>, |W>=(|1r>+|r1>)/sqrt2\n",
    "\n",
    "method = 'BFGS'\n",
    "sqrt2 = np.sqrt(2)\n",
    "\n",
    "Omega_max = 1 # fix maximum Omega\n",
    "T_max = 100000.0 # maximum time\n",
    "T_list = np.linspace(0, T_max, 100)\n",
    "\n",
    "# Initialize the state\n",
    "psi_in = Qobj([1,0,1,0]/sqrt2) # |psi(0)> = |1>|0> + |1>|1> \n",
    "\n",
    "class Optimalization_2_qubits:\n",
    "    # input T get optimal 1-F and optimized phi\n",
    "    def __init__(self, T):\n",
    "        self.T = T\n",
    "        self.dt = T/N\n",
    "        self.phi = np.random.uniform(0, 2*np.pi, N) # Random initial phase angles\n",
    "        \n",
    "    def get_H(self):\n",
    "        phi = self.phi\n",
    "        \n",
    "        Omega = Omega_max * np.exp(1j*phi)# Global Pulse so Omega_1 = Omega_2 = Omega\n",
    "\n",
    "        H = np.zeros((4,4)) # Hamiltonian matrix\n",
    "        # in the basis of |01>, |0r>,|11>,|W>=(|1r>+|r1>)/sqr2\n",
    "        H_list = [] # List to store Hamiltonian matrices\n",
    "        \n",
    "        for i in range(N):\n",
    "            H[0,1] = Omega[i]/2 \n",
    "            H[1,0] = Omega[i].conj()/2\n",
    "            H[2,3] = Omega[i]/sqrt2\n",
    "            H[3,2] = Omega[i].conj()/sqrt2\n",
    "            \n",
    "            H_operator = Qobj(H) # Convert to Qobj\n",
    "            H_list.append(H_operator) # Append to the list\n",
    "        return H_list # Return the list of Hamiltonian matrices\n",
    "\n",
    "    def get_U(self):\n",
    "        dt = self.dt\n",
    "        phi = self.phi\n",
    "        # Define the unitary operator\n",
    "        H_list = self.get_H() # Get the Hamiltonian list\n",
    "        U_total = qeye(H_list[0].dims[0]) # Initialize the total unitary operator\n",
    "        for i in range(len(H_list)):\n",
    "            H_i = H_list[i]               # Calculate the Hamiltonian for the current time step\n",
    "            U_i = (-1j * H_i * dt).expm() \n",
    "            U_total = U_i * U_total\n",
    "        return U_total # Return the total unitary operator\n",
    "\n",
    "    def get_fidelity(self):\n",
    "        \n",
    "        # use the average fidelity fomula\n",
    "        U = self.get_U()\n",
    "        \n",
    "        # a01 = basis_state[0].dag() * U * psi_in \n",
    "        # a11 = -basis_state[2].dag() * U * psi_in \n",
    "        a01 = basis_state[0].dag() * U * basis_state[0]\n",
    "        a11 = -basis_state[2].dag() * U * basis_state[2]\n",
    "\n",
    "        F = (0.05) * ( np.abs(1 + 2*a01 + a11)**2 + 1 + 2*np.abs(a01)**2 + np.abs(a11)**2 )\n",
    "        return F # Return the fidelity\n",
    "\n",
    "    def objective_function(self, phi):\n",
    "        self.phi = phi # Update phi\n",
    "        return 1-self.get_fidelity()\n",
    "    \n",
    "    def optimize(self):\n",
    "        # Optimize the phase angles\n",
    "        result = minimize(self.objective_function, self.phi, method='BFGS', options={'disp': True})\n",
    "        return result.fun, result.x\n",
    "    "
   ]
  },
  {
   "cell_type": "code",
   "execution_count": null,
   "id": "814ea56d",
   "metadata": {},
   "outputs": [
    {
     "name": "stdout",
     "output_type": "stream",
     "text": [
      "Optimize under the same T: 1000.0\n",
      "Optimization terminated successfully.\n",
      "         Current function value: 0.001069\n",
      "         Iterations: 3\n",
      "         Function evaluations: 1300\n",
      "         Gradient evaluations: 13\n",
      "progress: 1/20, minimum fidelity: 0.0010686083172841698\n"
     ]
    }
   ],
   "source": [
    "results = []\n",
    "phis = []\n",
    "count = 0\n",
    "T_sample = 1000.0\n",
    "# test the stabullity of the optimization\n",
    "print(f'Optimize under the same T: {T_sample}')\n",
    "for i in range(10):\n",
    "    count += 1\n",
    "    sample = Optimalization_2_qubits(T_sample) # Create an instance of the class\n",
    "    result = sample.optimize() # Optimize the phase angles\n",
    "    \n",
    "    results.append(result[0]) # Append the minimum fidelity to the results list\n",
    "    phis.append(result[1]) # Append the optimized phase angles to the phis list\n",
    "    \n",
    "    print(f\"progress: {count}/20, minimum fidelity: {np.min(results)}\")"
   ]
  },
  {
   "cell_type": "code",
   "execution_count": null,
   "id": "66fd0576",
   "metadata": {},
   "outputs": [],
   "source": [
    "plt.hist(results, bins=10, density=True, alpha=0.7, color='blue')\n",
    "plt.title('Histogram of 1-F')\n",
    "plt.ylabel('Probability Density')\n",
    "plt.grid(True)\n",
    "plt.xlabel('1-F')\n",
    "plt.show()"
   ]
  }
 ],
 "metadata": {
  "kernelspec": {
   "display_name": "qec",
   "language": "python",
   "name": "python3"
  },
  "language_info": {
   "codemirror_mode": {
    "name": "ipython",
    "version": 3
   },
   "file_extension": ".py",
   "mimetype": "text/x-python",
   "name": "python",
   "nbconvert_exporter": "python",
   "pygments_lexer": "ipython3",
   "version": "3.9.21"
  }
 },
 "nbformat": 4,
 "nbformat_minor": 5
}
