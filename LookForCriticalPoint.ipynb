{
 "cells": [
  {
   "cell_type": "code",
   "execution_count": null,
   "id": "ac38e896",
   "metadata": {},
   "outputs": [],
   "source": [
    "from modules.Optimization_2_qubits import Optimalization_2_qubits\n",
    "import numpy as np\n",
    "import pandas as pd\n",
    "import matplotlib.pyplot as plt\n",
    "import os\n",
    "import time\n",
    "\n",
    "start_time = time.time()\n",
    "\n",
    "# try to find the critical point of the Fidelity\n",
    "T_min = 20.0\n",
    "T_max = 30.0\n",
    "num_T = 1\n",
    "# based on the simulattion before the critical point is between 25 and 28\n",
    "\n",
    "repeat = 10 # number of times to repeat the optimization\n",
    "tolerance = 1e-4 # tolerance for the decreasing\n",
    "\n",
    "T_list = np.linspace(T_min, T_max, num_T) # Time list\n",
    "\n",
    "\n",
    "\n",
    "\n",
    "results = []\n",
    "\n",
    "for T in T_list:\n",
    "    current_time = time.time()\n",
    "    print(f\"Starting optimization for T = {T:.2f},program have been running for{current_time-start_time} seconds, prpgress: {T_list.tolist().index(T)+1}/{num_T}\")\n",
    "    sample = Optimalization_2_qubits(T) # Create an instance of the class\n",
    "    if results:\n",
    "        result_min = np.min(results)\n",
    "        result_best = 1.0\n",
    "        count = 0\n",
    "        while result_best > result_min+tolerance:\n",
    "            count += 1\n",
    "            result = sample.repeat_optimize(num=repeat)\n",
    "            result_temp = result[0]\n",
    "            print(f\"Try to find the decreasing result,best 1-F:{result_best:.4f}, 1-F for last T: {result_min}, Interations: {count}\")\n",
    "            if result_temp < result_best:\n",
    "                result_best = result_temp\n",
    "        else:\n",
    "            results.append(result_best)\n",
    "            print(f\"Find the decreasing result,1-F:{result_best:.4f}, Interations: {count}\")\n",
    "    else:\n",
    "        \n",
    "        result = sample.repeat_optimize(num=repeat) # Optimize the phase angles\n",
    "        results.append(result[0]) # Append the minimum fidelity to the results list\n",
    "        print(f\"Find the decreasing result,1-F:{result[0]:.4f}\")\n"
   ]
  },
  {
   "cell_type": "code",
   "execution_count": null,
   "id": "f23dbd12",
   "metadata": {},
   "outputs": [],
   "source": [
    "\n",
    "\n",
    "plt.figure(figsize=(10, 6))\n",
    "plt.plot(T_list, results, linestyle='-', color='b')\n",
    "plt.scatter(T_list, results, color='r', label='Results')\n",
    "plt.xlabel('Control Time (T)')\n",
    "plt.ylabel('1-Fidelity')\n",
    "plt.title('1-Fidelity vs Control Time')\n",
    "plt.grid(True)\n",
    "plt.legend()\n",
    "plt.show()\n",
    "\n",
    "png_name = f\"1-F_vs_ControlTime_T_from{int(T_min)}_to_{int(T_max)}_pointnum{int(num_T)}.png\"\n",
    "file_name = os.path.join('Output', png_name)\n",
    "plt.savefig(file_name, dpi=300, bbox_inches='tight')\n",
    "print(f\"Graph saved as {png_name}\")\n",
    "\n"
   ]
  },
  {
   "cell_type": "code",
   "execution_count": null,
   "id": "29b07997",
   "metadata": {},
   "outputs": [],
   "source": [
    "# Save the results to a CSV file\n",
    "results_df = pd.DataFrame({'Control Time (T)': T_list, '1-Fidelity': results})\n",
    "csv_name = f\"1-F_vs_ControlTime_T_from{int(T_min)}_to_{int(T_max)}_pointnum{int(num_T)}.csv\"\n",
    "file_name = os.path.join('Output', csv_name)\n",
    "results_df.to_csv(file_name, index=False)\n",
    "print(f\"Results saved as {csv_name}\")"
   ]
  }
 ],
 "metadata": {
  "kernelspec": {
   "display_name": "qec",
   "language": "python",
   "name": "python3"
  },
  "language_info": {
   "codemirror_mode": {
    "name": "ipython",
    "version": 3
   },
   "file_extension": ".py",
   "mimetype": "text/x-python",
   "name": "python",
   "nbconvert_exporter": "python",
   "pygments_lexer": "ipython3",
   "version": "3.9.21"
  }
 },
 "nbformat": 4,
 "nbformat_minor": 5
}
